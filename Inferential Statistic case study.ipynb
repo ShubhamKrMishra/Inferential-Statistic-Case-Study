{
 "cells": [
  {
   "cell_type": "markdown",
   "metadata": {
    "id": "Ch7qjBRgVNSN"
   },
   "source": [
    "## Importing the necessary libraries for our analysis."
   ]
  },
  {
   "cell_type": "code",
   "execution_count": 1,
   "metadata": {
    "id": "LXTdcGIr_KqS"
   },
   "outputs": [],
   "source": [
    "import numpy as np \n",
    "import pandas as pd \n",
    "import matplotlib.pyplot as plt \n",
    "import seaborn as sns"
   ]
  },
  {
   "cell_type": "code",
   "execution_count": 2,
   "metadata": {
    "id": "RIx8w5MMVMhh"
   },
   "outputs": [
    {
     "data": {
      "text/html": [
       "<div>\n",
       "<style scoped>\n",
       "    .dataframe tbody tr th:only-of-type {\n",
       "        vertical-align: middle;\n",
       "    }\n",
       "\n",
       "    .dataframe tbody tr th {\n",
       "        vertical-align: top;\n",
       "    }\n",
       "\n",
       "    .dataframe thead th {\n",
       "        text-align: right;\n",
       "    }\n",
       "</style>\n",
       "<table border=\"1\" class=\"dataframe\">\n",
       "  <thead>\n",
       "    <tr style=\"text-align: right;\">\n",
       "      <th></th>\n",
       "      <th>User_ID</th>\n",
       "      <th>Product_ID</th>\n",
       "      <th>Gender</th>\n",
       "      <th>Age</th>\n",
       "      <th>Occupation</th>\n",
       "      <th>City_Category</th>\n",
       "      <th>Stay_In_Current_City_Years</th>\n",
       "      <th>Marital_Status</th>\n",
       "      <th>Product_Category_1</th>\n",
       "      <th>Product_Category_2</th>\n",
       "      <th>Product_Category_3</th>\n",
       "      <th>Purchase</th>\n",
       "    </tr>\n",
       "  </thead>\n",
       "  <tbody>\n",
       "    <tr>\n",
       "      <th>0</th>\n",
       "      <td>1000001</td>\n",
       "      <td>P00069042</td>\n",
       "      <td>F</td>\n",
       "      <td>0-17</td>\n",
       "      <td>10.0</td>\n",
       "      <td>A</td>\n",
       "      <td>2</td>\n",
       "      <td>0.0</td>\n",
       "      <td>3.0</td>\n",
       "      <td>NaN</td>\n",
       "      <td>NaN</td>\n",
       "      <td>8370.0</td>\n",
       "    </tr>\n",
       "    <tr>\n",
       "      <th>1</th>\n",
       "      <td>1000001</td>\n",
       "      <td>P00248942</td>\n",
       "      <td>F</td>\n",
       "      <td>0-17</td>\n",
       "      <td>10.0</td>\n",
       "      <td>A</td>\n",
       "      <td>2</td>\n",
       "      <td>0.0</td>\n",
       "      <td>1.0</td>\n",
       "      <td>6.0</td>\n",
       "      <td>14.0</td>\n",
       "      <td>15200.0</td>\n",
       "    </tr>\n",
       "    <tr>\n",
       "      <th>2</th>\n",
       "      <td>1000001</td>\n",
       "      <td>P00087842</td>\n",
       "      <td>F</td>\n",
       "      <td>0-17</td>\n",
       "      <td>10.0</td>\n",
       "      <td>A</td>\n",
       "      <td>2</td>\n",
       "      <td>0.0</td>\n",
       "      <td>12.0</td>\n",
       "      <td>NaN</td>\n",
       "      <td>NaN</td>\n",
       "      <td>1422.0</td>\n",
       "    </tr>\n",
       "    <tr>\n",
       "      <th>3</th>\n",
       "      <td>1000001</td>\n",
       "      <td>P00085442</td>\n",
       "      <td>F</td>\n",
       "      <td>0-17</td>\n",
       "      <td>10.0</td>\n",
       "      <td>A</td>\n",
       "      <td>2</td>\n",
       "      <td>0.0</td>\n",
       "      <td>12.0</td>\n",
       "      <td>14.0</td>\n",
       "      <td>NaN</td>\n",
       "      <td>1057.0</td>\n",
       "    </tr>\n",
       "    <tr>\n",
       "      <th>4</th>\n",
       "      <td>1000002</td>\n",
       "      <td>P00285442</td>\n",
       "      <td>M</td>\n",
       "      <td>55+</td>\n",
       "      <td>16.0</td>\n",
       "      <td>C</td>\n",
       "      <td>4+</td>\n",
       "      <td>0.0</td>\n",
       "      <td>8.0</td>\n",
       "      <td>NaN</td>\n",
       "      <td>NaN</td>\n",
       "      <td>7969.0</td>\n",
       "    </tr>\n",
       "    <tr>\n",
       "      <th>...</th>\n",
       "      <td>...</td>\n",
       "      <td>...</td>\n",
       "      <td>...</td>\n",
       "      <td>...</td>\n",
       "      <td>...</td>\n",
       "      <td>...</td>\n",
       "      <td>...</td>\n",
       "      <td>...</td>\n",
       "      <td>...</td>\n",
       "      <td>...</td>\n",
       "      <td>...</td>\n",
       "      <td>...</td>\n",
       "    </tr>\n",
       "    <tr>\n",
       "      <th>263010</th>\n",
       "      <td>1004473</td>\n",
       "      <td>P00041942</td>\n",
       "      <td>M</td>\n",
       "      <td>36-45</td>\n",
       "      <td>1.0</td>\n",
       "      <td>B</td>\n",
       "      <td>3</td>\n",
       "      <td>0.0</td>\n",
       "      <td>5.0</td>\n",
       "      <td>18.0</td>\n",
       "      <td>NaN</td>\n",
       "      <td>3722.0</td>\n",
       "    </tr>\n",
       "    <tr>\n",
       "      <th>263011</th>\n",
       "      <td>1004473</td>\n",
       "      <td>P00115142</td>\n",
       "      <td>M</td>\n",
       "      <td>36-45</td>\n",
       "      <td>1.0</td>\n",
       "      <td>B</td>\n",
       "      <td>3</td>\n",
       "      <td>0.0</td>\n",
       "      <td>1.0</td>\n",
       "      <td>8.0</td>\n",
       "      <td>17.0</td>\n",
       "      <td>19253.0</td>\n",
       "    </tr>\n",
       "    <tr>\n",
       "      <th>263012</th>\n",
       "      <td>1004473</td>\n",
       "      <td>P00188442</td>\n",
       "      <td>M</td>\n",
       "      <td>36-45</td>\n",
       "      <td>1.0</td>\n",
       "      <td>B</td>\n",
       "      <td>3</td>\n",
       "      <td>0.0</td>\n",
       "      <td>5.0</td>\n",
       "      <td>7.0</td>\n",
       "      <td>NaN</td>\n",
       "      <td>3608.0</td>\n",
       "    </tr>\n",
       "    <tr>\n",
       "      <th>263013</th>\n",
       "      <td>1004473</td>\n",
       "      <td>P00119442</td>\n",
       "      <td>M</td>\n",
       "      <td>36-45</td>\n",
       "      <td>1.0</td>\n",
       "      <td>B</td>\n",
       "      <td>3</td>\n",
       "      <td>0.0</td>\n",
       "      <td>5.0</td>\n",
       "      <td>NaN</td>\n",
       "      <td>NaN</td>\n",
       "      <td>3604.0</td>\n",
       "    </tr>\n",
       "    <tr>\n",
       "      <th>263014</th>\n",
       "      <td>10</td>\n",
       "      <td>NaN</td>\n",
       "      <td>NaN</td>\n",
       "      <td>NaN</td>\n",
       "      <td>NaN</td>\n",
       "      <td>NaN</td>\n",
       "      <td>NaN</td>\n",
       "      <td>NaN</td>\n",
       "      <td>NaN</td>\n",
       "      <td>NaN</td>\n",
       "      <td>NaN</td>\n",
       "      <td>NaN</td>\n",
       "    </tr>\n",
       "  </tbody>\n",
       "</table>\n",
       "<p>263015 rows × 12 columns</p>\n",
       "</div>"
      ],
      "text/plain": [
       "        User_ID Product_ID Gender    Age  Occupation City_Category  \\\n",
       "0       1000001  P00069042      F   0-17        10.0             A   \n",
       "1       1000001  P00248942      F   0-17        10.0             A   \n",
       "2       1000001  P00087842      F   0-17        10.0             A   \n",
       "3       1000001  P00085442      F   0-17        10.0             A   \n",
       "4       1000002  P00285442      M    55+        16.0             C   \n",
       "...         ...        ...    ...    ...         ...           ...   \n",
       "263010  1004473  P00041942      M  36-45         1.0             B   \n",
       "263011  1004473  P00115142      M  36-45         1.0             B   \n",
       "263012  1004473  P00188442      M  36-45         1.0             B   \n",
       "263013  1004473  P00119442      M  36-45         1.0             B   \n",
       "263014       10        NaN    NaN    NaN         NaN           NaN   \n",
       "\n",
       "       Stay_In_Current_City_Years  Marital_Status  Product_Category_1  \\\n",
       "0                               2             0.0                 3.0   \n",
       "1                               2             0.0                 1.0   \n",
       "2                               2             0.0                12.0   \n",
       "3                               2             0.0                12.0   \n",
       "4                              4+             0.0                 8.0   \n",
       "...                           ...             ...                 ...   \n",
       "263010                          3             0.0                 5.0   \n",
       "263011                          3             0.0                 1.0   \n",
       "263012                          3             0.0                 5.0   \n",
       "263013                          3             0.0                 5.0   \n",
       "263014                        NaN             NaN                 NaN   \n",
       "\n",
       "        Product_Category_2  Product_Category_3  Purchase  \n",
       "0                      NaN                 NaN    8370.0  \n",
       "1                      6.0                14.0   15200.0  \n",
       "2                      NaN                 NaN    1422.0  \n",
       "3                     14.0                 NaN    1057.0  \n",
       "4                      NaN                 NaN    7969.0  \n",
       "...                    ...                 ...       ...  \n",
       "263010                18.0                 NaN    3722.0  \n",
       "263011                 8.0                17.0   19253.0  \n",
       "263012                 7.0                 NaN    3608.0  \n",
       "263013                 NaN                 NaN    3604.0  \n",
       "263014                 NaN                 NaN       NaN  \n",
       "\n",
       "[263015 rows x 12 columns]"
      ]
     },
     "execution_count": 2,
     "metadata": {},
     "output_type": "execute_result"
    }
   ],
   "source": [
    "#starting with loading the data into the program\n",
    "data = pd.read_csv('purchase_data.csv')\n",
    "data"
   ]
  },
  {
   "cell_type": "code",
   "execution_count": 3,
   "metadata": {
    "colab": {
     "base_uri": "https://localhost:8080/"
    },
    "id": "ITqK5HqfaKDf",
    "outputId": "0f73ad2b-9b83-47f9-d635-20137f2d5687"
   },
   "outputs": [
    {
     "name": "stdout",
     "output_type": "stream",
     "text": [
      "<class 'pandas.core.frame.DataFrame'>\n",
      "RangeIndex: 263015 entries, 0 to 263014\n",
      "Data columns (total 12 columns):\n",
      " #   Column                      Non-Null Count   Dtype  \n",
      "---  ------                      --------------   -----  \n",
      " 0   User_ID                     263015 non-null  int64  \n",
      " 1   Product_ID                  263014 non-null  object \n",
      " 2   Gender                      263014 non-null  object \n",
      " 3   Age                         263014 non-null  object \n",
      " 4   Occupation                  263014 non-null  float64\n",
      " 5   City_Category               263014 non-null  object \n",
      " 6   Stay_In_Current_City_Years  263014 non-null  object \n",
      " 7   Marital_Status              263014 non-null  float64\n",
      " 8   Product_Category_1          263014 non-null  float64\n",
      " 9   Product_Category_2          181501 non-null  float64\n",
      " 10  Product_Category_3          80582 non-null   float64\n",
      " 11  Purchase                    263014 non-null  float64\n",
      "dtypes: float64(6), int64(1), object(5)\n",
      "memory usage: 24.1+ MB\n"
     ]
    }
   ],
   "source": [
    "#information on the features from the column\n",
    "data.info()"
   ]
  },
  {
   "cell_type": "code",
   "execution_count": 4,
   "metadata": {
    "colab": {
     "base_uri": "https://localhost:8080/",
     "height": 340
    },
    "id": "MeOchdvlaV0_",
    "outputId": "5d0eeb0b-9bae-4a82-e754-5aecf57d11bc"
   },
   "outputs": [
    {
     "data": {
      "text/html": [
       "<div>\n",
       "<style scoped>\n",
       "    .dataframe tbody tr th:only-of-type {\n",
       "        vertical-align: middle;\n",
       "    }\n",
       "\n",
       "    .dataframe tbody tr th {\n",
       "        vertical-align: top;\n",
       "    }\n",
       "\n",
       "    .dataframe thead th {\n",
       "        text-align: right;\n",
       "    }\n",
       "</style>\n",
       "<table border=\"1\" class=\"dataframe\">\n",
       "  <thead>\n",
       "    <tr style=\"text-align: right;\">\n",
       "      <th></th>\n",
       "      <th>User_ID</th>\n",
       "      <th>Product_ID</th>\n",
       "      <th>Gender</th>\n",
       "      <th>Age</th>\n",
       "      <th>Occupation</th>\n",
       "      <th>City_Category</th>\n",
       "      <th>Stay_In_Current_City_Years</th>\n",
       "      <th>Marital_Status</th>\n",
       "      <th>Product_Category_1</th>\n",
       "      <th>Product_Category_2</th>\n",
       "      <th>Product_Category_3</th>\n",
       "      <th>Purchase</th>\n",
       "    </tr>\n",
       "  </thead>\n",
       "  <tbody>\n",
       "    <tr>\n",
       "      <th>0</th>\n",
       "      <td>1000001</td>\n",
       "      <td>P00069042</td>\n",
       "      <td>F</td>\n",
       "      <td>0-17</td>\n",
       "      <td>10.0</td>\n",
       "      <td>A</td>\n",
       "      <td>2</td>\n",
       "      <td>0.0</td>\n",
       "      <td>3.0</td>\n",
       "      <td>NaN</td>\n",
       "      <td>NaN</td>\n",
       "      <td>8370.0</td>\n",
       "    </tr>\n",
       "    <tr>\n",
       "      <th>1</th>\n",
       "      <td>1000001</td>\n",
       "      <td>P00248942</td>\n",
       "      <td>F</td>\n",
       "      <td>0-17</td>\n",
       "      <td>10.0</td>\n",
       "      <td>A</td>\n",
       "      <td>2</td>\n",
       "      <td>0.0</td>\n",
       "      <td>1.0</td>\n",
       "      <td>6.0</td>\n",
       "      <td>14.0</td>\n",
       "      <td>15200.0</td>\n",
       "    </tr>\n",
       "    <tr>\n",
       "      <th>2</th>\n",
       "      <td>1000001</td>\n",
       "      <td>P00087842</td>\n",
       "      <td>F</td>\n",
       "      <td>0-17</td>\n",
       "      <td>10.0</td>\n",
       "      <td>A</td>\n",
       "      <td>2</td>\n",
       "      <td>0.0</td>\n",
       "      <td>12.0</td>\n",
       "      <td>NaN</td>\n",
       "      <td>NaN</td>\n",
       "      <td>1422.0</td>\n",
       "    </tr>\n",
       "    <tr>\n",
       "      <th>3</th>\n",
       "      <td>1000001</td>\n",
       "      <td>P00085442</td>\n",
       "      <td>F</td>\n",
       "      <td>0-17</td>\n",
       "      <td>10.0</td>\n",
       "      <td>A</td>\n",
       "      <td>2</td>\n",
       "      <td>0.0</td>\n",
       "      <td>12.0</td>\n",
       "      <td>14.0</td>\n",
       "      <td>NaN</td>\n",
       "      <td>1057.0</td>\n",
       "    </tr>\n",
       "    <tr>\n",
       "      <th>4</th>\n",
       "      <td>1000002</td>\n",
       "      <td>P00285442</td>\n",
       "      <td>M</td>\n",
       "      <td>55+</td>\n",
       "      <td>16.0</td>\n",
       "      <td>C</td>\n",
       "      <td>4+</td>\n",
       "      <td>0.0</td>\n",
       "      <td>8.0</td>\n",
       "      <td>NaN</td>\n",
       "      <td>NaN</td>\n",
       "      <td>7969.0</td>\n",
       "    </tr>\n",
       "  </tbody>\n",
       "</table>\n",
       "</div>"
      ],
      "text/plain": [
       "   User_ID Product_ID Gender   Age  Occupation City_Category  \\\n",
       "0  1000001  P00069042      F  0-17        10.0             A   \n",
       "1  1000001  P00248942      F  0-17        10.0             A   \n",
       "2  1000001  P00087842      F  0-17        10.0             A   \n",
       "3  1000001  P00085442      F  0-17        10.0             A   \n",
       "4  1000002  P00285442      M   55+        16.0             C   \n",
       "\n",
       "  Stay_In_Current_City_Years  Marital_Status  Product_Category_1  \\\n",
       "0                          2             0.0                 3.0   \n",
       "1                          2             0.0                 1.0   \n",
       "2                          2             0.0                12.0   \n",
       "3                          2             0.0                12.0   \n",
       "4                         4+             0.0                 8.0   \n",
       "\n",
       "   Product_Category_2  Product_Category_3  Purchase  \n",
       "0                 NaN                 NaN    8370.0  \n",
       "1                 6.0                14.0   15200.0  \n",
       "2                 NaN                 NaN    1422.0  \n",
       "3                14.0                 NaN    1057.0  \n",
       "4                 NaN                 NaN    7969.0  "
      ]
     },
     "execution_count": 4,
     "metadata": {},
     "output_type": "execute_result"
    }
   ],
   "source": [
    "#getting the first look at the data\n",
    "data.head()"
   ]
  },
  {
   "cell_type": "code",
   "execution_count": 5,
   "metadata": {
    "colab": {
     "base_uri": "https://localhost:8080/"
    },
    "id": "P8OHVx9de3Py",
    "outputId": "5a5196ec-a1ed-4d5e-e820-666d2886a1a4"
   },
   "outputs": [
    {
     "data": {
      "text/plain": [
       "Index(['User_ID', 'Product_ID', 'Gender', 'Age', 'Occupation', 'City_Category',\n",
       "       'Stay_In_Current_City_Years', 'Marital_Status', 'Product_Category_1',\n",
       "       'Product_Category_2', 'Product_Category_3', 'Purchase'],\n",
       "      dtype='object')"
      ]
     },
     "execution_count": 5,
     "metadata": {},
     "output_type": "execute_result"
    }
   ],
   "source": [
    "#column names\n",
    "data.columns"
   ]
  },
  {
   "cell_type": "code",
   "execution_count": 6,
   "metadata": {
    "id": "qOHCfw_Z0aHp"
   },
   "outputs": [],
   "source": [
    "#label encoding on the categorical columns\n",
    "from sklearn.preprocessing import LabelEncoder"
   ]
  },
  {
   "cell_type": "code",
   "execution_count": 7,
   "metadata": {
    "id": "vxetNbfp11yX"
   },
   "outputs": [],
   "source": [
    "le = LabelEncoder()"
   ]
  },
  {
   "cell_type": "code",
   "execution_count": 8,
   "metadata": {
    "colab": {
     "base_uri": "https://localhost:8080/"
    },
    "id": "cTMrG72V2N28",
    "outputId": "93b8aa32-8ba0-47b3-9fd3-e17d693c2b6d"
   },
   "outputs": [
    {
     "name": "stdout",
     "output_type": "stream",
     "text": [
      "User_ID [     10 1000001 1000002 ... 1006038 1006039 1006040]\n",
      "Product_ID ['P00000142' 'P00000242' 'P00000342' ... 'P0099842' 'P0099942' nan]\n",
      "Gender ['F' 'M' nan]\n",
      "Age ['0-17' '18-25' '26-35' '36-45' '46-50' '51-55' '55+' nan]\n",
      "City_Category ['A' 'B' 'C' nan]\n"
     ]
    }
   ],
   "source": [
    "data['User_ID'] = le.fit_transform(data['User_ID'])\n",
    "print(\"User_ID\", le.classes_)\n",
    "data['Product_ID'] = le.fit_transform(data['Product_ID'])\n",
    "print(\"Product_ID\", le.classes_)\n",
    "data['Gender'] = le.fit_transform(data['Gender'])\n",
    "print(\"Gender\", le.classes_)\n",
    "data['Age'] = le.fit_transform(data['Age'])\n",
    "print(\"Age\", le.classes_)\n",
    "data['City_Category'] = le.fit_transform(data['City_Category'])\n",
    "print(\"City_Category\", le.classes_)"
   ]
  },
  {
   "cell_type": "code",
   "execution_count": 9,
   "metadata": {
    "colab": {
     "base_uri": "https://localhost:8080/"
    },
    "id": "BP8wBK2V2wVv",
    "outputId": "b2b22627-a38d-42ec-911b-b4e7336ae564"
   },
   "outputs": [
    {
     "data": {
      "text/plain": [
       "array(['2', '4+', '3', '1', '0', nan], dtype=object)"
      ]
     },
     "execution_count": 9,
     "metadata": {},
     "output_type": "execute_result"
    }
   ],
   "source": [
    "data['Stay_In_Current_City_Years'].unique()"
   ]
  },
  {
   "cell_type": "code",
   "execution_count": 10,
   "metadata": {
    "id": "7XzdG77H259D"
   },
   "outputs": [],
   "source": [
    " #changing all the values for 4+ to 4 \n",
    "data['Stay_In_Current_City_Years'] = data['Stay_In_Current_City_Years'].replace('4+', '4')"
   ]
  },
  {
   "cell_type": "code",
   "execution_count": 11,
   "metadata": {
    "id": "qyjT4ghz8CuB"
   },
   "outputs": [],
   "source": [
    "#changing the datatype from string to integer\n",
    "data['Stay_In_Current_City_Years'] = pd.to_numeric(data['Stay_In_Current_City_Years'],errors=\"coerce\")"
   ]
  },
  {
   "cell_type": "code",
   "execution_count": 12,
   "metadata": {
    "colab": {
     "base_uri": "https://localhost:8080/"
    },
    "id": "ToOWM-Ak8LgE",
    "outputId": "b7b9a886-dbf9-4e84-8c90-f8c7be55b272"
   },
   "outputs": [
    {
     "name": "stdout",
     "output_type": "stream",
     "text": [
      "<class 'pandas.core.frame.DataFrame'>\n",
      "RangeIndex: 263015 entries, 0 to 263014\n",
      "Data columns (total 12 columns):\n",
      " #   Column                      Non-Null Count   Dtype  \n",
      "---  ------                      --------------   -----  \n",
      " 0   User_ID                     263015 non-null  int64  \n",
      " 1   Product_ID                  263015 non-null  int32  \n",
      " 2   Gender                      263015 non-null  int32  \n",
      " 3   Age                         263015 non-null  int32  \n",
      " 4   Occupation                  263014 non-null  float64\n",
      " 5   City_Category               263015 non-null  int32  \n",
      " 6   Stay_In_Current_City_Years  263014 non-null  float64\n",
      " 7   Marital_Status              263014 non-null  float64\n",
      " 8   Product_Category_1          263014 non-null  float64\n",
      " 9   Product_Category_2          181501 non-null  float64\n",
      " 10  Product_Category_3          80582 non-null   float64\n",
      " 11  Purchase                    263014 non-null  float64\n",
      "dtypes: float64(7), int32(4), int64(1)\n",
      "memory usage: 20.1 MB\n"
     ]
    }
   ],
   "source": [
    "data.info()"
   ]
  },
  {
   "cell_type": "code",
   "execution_count": 13,
   "metadata": {
    "colab": {
     "base_uri": "https://localhost:8080/"
    },
    "id": "0pBeDG7_8SZr",
    "outputId": "f9ae0f07-d610-4dfc-ee13-b2510c70ea4e"
   },
   "outputs": [
    {
     "data": {
      "text/plain": [
       "User_ID                            0\n",
       "Product_ID                         0\n",
       "Gender                             0\n",
       "Age                                0\n",
       "Occupation                         1\n",
       "City_Category                      0\n",
       "Stay_In_Current_City_Years         1\n",
       "Marital_Status                     1\n",
       "Product_Category_1                 1\n",
       "Product_Category_2             81514\n",
       "Product_Category_3            182433\n",
       "Purchase                           1\n",
       "dtype: int64"
      ]
     },
     "execution_count": 13,
     "metadata": {},
     "output_type": "execute_result"
    }
   ],
   "source": [
    "#checking the null values in the data\n",
    "data.isna().sum()"
   ]
  },
  {
   "cell_type": "code",
   "execution_count": 14,
   "metadata": {
    "id": "41t9RefP8meu"
   },
   "outputs": [],
   "source": [
    "#since the data is large in size, dropping the null values \n",
    "data = data.dropna()"
   ]
  },
  {
   "cell_type": "code",
   "execution_count": 15,
   "metadata": {
    "colab": {
     "base_uri": "https://localhost:8080/"
    },
    "id": "FKHCamyW8uAz",
    "outputId": "7578aeb4-0ff3-45f0-fdf4-1d161ddcb62e"
   },
   "outputs": [
    {
     "name": "stdout",
     "output_type": "stream",
     "text": [
      "<class 'pandas.core.frame.DataFrame'>\n",
      "Int64Index: 80582 entries, 1 to 263011\n",
      "Data columns (total 12 columns):\n",
      " #   Column                      Non-Null Count  Dtype  \n",
      "---  ------                      --------------  -----  \n",
      " 0   User_ID                     80582 non-null  int64  \n",
      " 1   Product_ID                  80582 non-null  int32  \n",
      " 2   Gender                      80582 non-null  int32  \n",
      " 3   Age                         80582 non-null  int32  \n",
      " 4   Occupation                  80582 non-null  float64\n",
      " 5   City_Category               80582 non-null  int32  \n",
      " 6   Stay_In_Current_City_Years  80582 non-null  float64\n",
      " 7   Marital_Status              80582 non-null  float64\n",
      " 8   Product_Category_1          80582 non-null  float64\n",
      " 9   Product_Category_2          80582 non-null  float64\n",
      " 10  Product_Category_3          80582 non-null  float64\n",
      " 11  Purchase                    80582 non-null  float64\n",
      "dtypes: float64(7), int32(4), int64(1)\n",
      "memory usage: 6.8 MB\n"
     ]
    }
   ],
   "source": [
    "data.info()"
   ]
  },
  {
   "cell_type": "code",
   "execution_count": 16,
   "metadata": {
    "colab": {
     "base_uri": "https://localhost:8080/",
     "height": 740
    },
    "id": "7omnvwVN_Md7",
    "outputId": "5f34d06d-9fcb-496c-def0-26d1439ccf05"
   },
   "outputs": [
    {
     "data": {
      "text/html": [
       "<div>\n",
       "<style scoped>\n",
       "    .dataframe tbody tr th:only-of-type {\n",
       "        vertical-align: middle;\n",
       "    }\n",
       "\n",
       "    .dataframe tbody tr th {\n",
       "        vertical-align: top;\n",
       "    }\n",
       "\n",
       "    .dataframe thead th {\n",
       "        text-align: right;\n",
       "    }\n",
       "</style>\n",
       "<table border=\"1\" class=\"dataframe\">\n",
       "  <thead>\n",
       "    <tr style=\"text-align: right;\">\n",
       "      <th></th>\n",
       "      <th>User_ID</th>\n",
       "      <th>Product_ID</th>\n",
       "      <th>Gender</th>\n",
       "      <th>Age</th>\n",
       "      <th>Occupation</th>\n",
       "      <th>City_Category</th>\n",
       "      <th>Stay_In_Current_City_Years</th>\n",
       "      <th>Marital_Status</th>\n",
       "      <th>Product_Category_1</th>\n",
       "      <th>Product_Category_2</th>\n",
       "      <th>Product_Category_3</th>\n",
       "      <th>Purchase</th>\n",
       "    </tr>\n",
       "  </thead>\n",
       "  <tbody>\n",
       "    <tr>\n",
       "      <th>1</th>\n",
       "      <td>1</td>\n",
       "      <td>2304</td>\n",
       "      <td>0</td>\n",
       "      <td>0</td>\n",
       "      <td>10.0</td>\n",
       "      <td>0</td>\n",
       "      <td>2.0</td>\n",
       "      <td>0.0</td>\n",
       "      <td>1.0</td>\n",
       "      <td>6.0</td>\n",
       "      <td>14.0</td>\n",
       "      <td>15200.0</td>\n",
       "    </tr>\n",
       "    <tr>\n",
       "      <th>6</th>\n",
       "      <td>4</td>\n",
       "      <td>1684</td>\n",
       "      <td>1</td>\n",
       "      <td>4</td>\n",
       "      <td>7.0</td>\n",
       "      <td>1</td>\n",
       "      <td>2.0</td>\n",
       "      <td>1.0</td>\n",
       "      <td>1.0</td>\n",
       "      <td>8.0</td>\n",
       "      <td>17.0</td>\n",
       "      <td>19215.0</td>\n",
       "    </tr>\n",
       "    <tr>\n",
       "      <th>13</th>\n",
       "      <td>5</td>\n",
       "      <td>1304</td>\n",
       "      <td>1</td>\n",
       "      <td>2</td>\n",
       "      <td>20.0</td>\n",
       "      <td>0</td>\n",
       "      <td>1.0</td>\n",
       "      <td>1.0</td>\n",
       "      <td>1.0</td>\n",
       "      <td>2.0</td>\n",
       "      <td>5.0</td>\n",
       "      <td>15665.0</td>\n",
       "    </tr>\n",
       "    <tr>\n",
       "      <th>14</th>\n",
       "      <td>6</td>\n",
       "      <td>2133</td>\n",
       "      <td>0</td>\n",
       "      <td>5</td>\n",
       "      <td>9.0</td>\n",
       "      <td>0</td>\n",
       "      <td>1.0</td>\n",
       "      <td>0.0</td>\n",
       "      <td>5.0</td>\n",
       "      <td>8.0</td>\n",
       "      <td>14.0</td>\n",
       "      <td>5378.0</td>\n",
       "    </tr>\n",
       "    <tr>\n",
       "      <th>16</th>\n",
       "      <td>6</td>\n",
       "      <td>3475</td>\n",
       "      <td>0</td>\n",
       "      <td>5</td>\n",
       "      <td>9.0</td>\n",
       "      <td>0</td>\n",
       "      <td>1.0</td>\n",
       "      <td>0.0</td>\n",
       "      <td>2.0</td>\n",
       "      <td>3.0</td>\n",
       "      <td>4.0</td>\n",
       "      <td>13055.0</td>\n",
       "    </tr>\n",
       "    <tr>\n",
       "      <th>18</th>\n",
       "      <td>7</td>\n",
       "      <td>356</td>\n",
       "      <td>1</td>\n",
       "      <td>3</td>\n",
       "      <td>1.0</td>\n",
       "      <td>1</td>\n",
       "      <td>1.0</td>\n",
       "      <td>1.0</td>\n",
       "      <td>1.0</td>\n",
       "      <td>14.0</td>\n",
       "      <td>16.0</td>\n",
       "      <td>11788.0</td>\n",
       "    </tr>\n",
       "    <tr>\n",
       "      <th>19</th>\n",
       "      <td>8</td>\n",
       "      <td>2310</td>\n",
       "      <td>1</td>\n",
       "      <td>2</td>\n",
       "      <td>12.0</td>\n",
       "      <td>2</td>\n",
       "      <td>4.0</td>\n",
       "      <td>1.0</td>\n",
       "      <td>1.0</td>\n",
       "      <td>5.0</td>\n",
       "      <td>15.0</td>\n",
       "      <td>19614.0</td>\n",
       "    </tr>\n",
       "    <tr>\n",
       "      <th>24</th>\n",
       "      <td>8</td>\n",
       "      <td>2823</td>\n",
       "      <td>1</td>\n",
       "      <td>2</td>\n",
       "      <td>12.0</td>\n",
       "      <td>2</td>\n",
       "      <td>4.0</td>\n",
       "      <td>1.0</td>\n",
       "      <td>1.0</td>\n",
       "      <td>8.0</td>\n",
       "      <td>14.0</td>\n",
       "      <td>11927.0</td>\n",
       "    </tr>\n",
       "    <tr>\n",
       "      <th>28</th>\n",
       "      <td>9</td>\n",
       "      <td>730</td>\n",
       "      <td>1</td>\n",
       "      <td>2</td>\n",
       "      <td>17.0</td>\n",
       "      <td>2</td>\n",
       "      <td>0.0</td>\n",
       "      <td>0.0</td>\n",
       "      <td>5.0</td>\n",
       "      <td>8.0</td>\n",
       "      <td>14.0</td>\n",
       "      <td>5391.0</td>\n",
       "    </tr>\n",
       "    <tr>\n",
       "      <th>29</th>\n",
       "      <td>10</td>\n",
       "      <td>795</td>\n",
       "      <td>0</td>\n",
       "      <td>3</td>\n",
       "      <td>1.0</td>\n",
       "      <td>1</td>\n",
       "      <td>4.0</td>\n",
       "      <td>1.0</td>\n",
       "      <td>2.0</td>\n",
       "      <td>4.0</td>\n",
       "      <td>8.0</td>\n",
       "      <td>16352.0</td>\n",
       "    </tr>\n",
       "    <tr>\n",
       "      <th>36</th>\n",
       "      <td>10</td>\n",
       "      <td>1661</td>\n",
       "      <td>0</td>\n",
       "      <td>3</td>\n",
       "      <td>1.0</td>\n",
       "      <td>1</td>\n",
       "      <td>4.0</td>\n",
       "      <td>1.0</td>\n",
       "      <td>2.0</td>\n",
       "      <td>4.0</td>\n",
       "      <td>9.0</td>\n",
       "      <td>12909.0</td>\n",
       "    </tr>\n",
       "    <tr>\n",
       "      <th>38</th>\n",
       "      <td>10</td>\n",
       "      <td>1407</td>\n",
       "      <td>0</td>\n",
       "      <td>3</td>\n",
       "      <td>1.0</td>\n",
       "      <td>1</td>\n",
       "      <td>4.0</td>\n",
       "      <td>1.0</td>\n",
       "      <td>1.0</td>\n",
       "      <td>11.0</td>\n",
       "      <td>15.0</td>\n",
       "      <td>15212.0</td>\n",
       "    </tr>\n",
       "    <tr>\n",
       "      <th>39</th>\n",
       "      <td>10</td>\n",
       "      <td>2035</td>\n",
       "      <td>0</td>\n",
       "      <td>3</td>\n",
       "      <td>1.0</td>\n",
       "      <td>1</td>\n",
       "      <td>4.0</td>\n",
       "      <td>1.0</td>\n",
       "      <td>1.0</td>\n",
       "      <td>2.0</td>\n",
       "      <td>5.0</td>\n",
       "      <td>15705.0</td>\n",
       "    </tr>\n",
       "    <tr>\n",
       "      <th>41</th>\n",
       "      <td>10</td>\n",
       "      <td>975</td>\n",
       "      <td>0</td>\n",
       "      <td>3</td>\n",
       "      <td>1.0</td>\n",
       "      <td>1</td>\n",
       "      <td>4.0</td>\n",
       "      <td>1.0</td>\n",
       "      <td>1.0</td>\n",
       "      <td>15.0</td>\n",
       "      <td>16.0</td>\n",
       "      <td>18963.0</td>\n",
       "    </tr>\n",
       "    <tr>\n",
       "      <th>43</th>\n",
       "      <td>10</td>\n",
       "      <td>3455</td>\n",
       "      <td>0</td>\n",
       "      <td>3</td>\n",
       "      <td>1.0</td>\n",
       "      <td>1</td>\n",
       "      <td>4.0</td>\n",
       "      <td>1.0</td>\n",
       "      <td>2.0</td>\n",
       "      <td>4.0</td>\n",
       "      <td>9.0</td>\n",
       "      <td>16406.0</td>\n",
       "    </tr>\n",
       "    <tr>\n",
       "      <th>44</th>\n",
       "      <td>10</td>\n",
       "      <td>1340</td>\n",
       "      <td>0</td>\n",
       "      <td>3</td>\n",
       "      <td>1.0</td>\n",
       "      <td>1</td>\n",
       "      <td>4.0</td>\n",
       "      <td>1.0</td>\n",
       "      <td>6.0</td>\n",
       "      <td>10.0</td>\n",
       "      <td>13.0</td>\n",
       "      <td>12642.0</td>\n",
       "    </tr>\n",
       "    <tr>\n",
       "      <th>46</th>\n",
       "      <td>10</td>\n",
       "      <td>996</td>\n",
       "      <td>0</td>\n",
       "      <td>3</td>\n",
       "      <td>1.0</td>\n",
       "      <td>1</td>\n",
       "      <td>4.0</td>\n",
       "      <td>1.0</td>\n",
       "      <td>1.0</td>\n",
       "      <td>6.0</td>\n",
       "      <td>8.0</td>\n",
       "      <td>11562.0</td>\n",
       "    </tr>\n",
       "    <tr>\n",
       "      <th>48</th>\n",
       "      <td>11</td>\n",
       "      <td>972</td>\n",
       "      <td>0</td>\n",
       "      <td>2</td>\n",
       "      <td>1.0</td>\n",
       "      <td>2</td>\n",
       "      <td>1.0</td>\n",
       "      <td>0.0</td>\n",
       "      <td>1.0</td>\n",
       "      <td>2.0</td>\n",
       "      <td>5.0</td>\n",
       "      <td>19327.0</td>\n",
       "    </tr>\n",
       "    <tr>\n",
       "      <th>54</th>\n",
       "      <td>13</td>\n",
       "      <td>1658</td>\n",
       "      <td>1</td>\n",
       "      <td>4</td>\n",
       "      <td>1.0</td>\n",
       "      <td>2</td>\n",
       "      <td>3.0</td>\n",
       "      <td>1.0</td>\n",
       "      <td>1.0</td>\n",
       "      <td>5.0</td>\n",
       "      <td>6.0</td>\n",
       "      <td>12107.0</td>\n",
       "    </tr>\n",
       "    <tr>\n",
       "      <th>64</th>\n",
       "      <td>15</td>\n",
       "      <td>405</td>\n",
       "      <td>1</td>\n",
       "      <td>2</td>\n",
       "      <td>7.0</td>\n",
       "      <td>0</td>\n",
       "      <td>1.0</td>\n",
       "      <td>0.0</td>\n",
       "      <td>1.0</td>\n",
       "      <td>2.0</td>\n",
       "      <td>6.0</td>\n",
       "      <td>11458.0</td>\n",
       "    </tr>\n",
       "  </tbody>\n",
       "</table>\n",
       "</div>"
      ],
      "text/plain": [
       "    User_ID  Product_ID  Gender  Age  Occupation  City_Category  \\\n",
       "1         1        2304       0    0        10.0              0   \n",
       "6         4        1684       1    4         7.0              1   \n",
       "13        5        1304       1    2        20.0              0   \n",
       "14        6        2133       0    5         9.0              0   \n",
       "16        6        3475       0    5         9.0              0   \n",
       "18        7         356       1    3         1.0              1   \n",
       "19        8        2310       1    2        12.0              2   \n",
       "24        8        2823       1    2        12.0              2   \n",
       "28        9         730       1    2        17.0              2   \n",
       "29       10         795       0    3         1.0              1   \n",
       "36       10        1661       0    3         1.0              1   \n",
       "38       10        1407       0    3         1.0              1   \n",
       "39       10        2035       0    3         1.0              1   \n",
       "41       10         975       0    3         1.0              1   \n",
       "43       10        3455       0    3         1.0              1   \n",
       "44       10        1340       0    3         1.0              1   \n",
       "46       10         996       0    3         1.0              1   \n",
       "48       11         972       0    2         1.0              2   \n",
       "54       13        1658       1    4         1.0              2   \n",
       "64       15         405       1    2         7.0              0   \n",
       "\n",
       "    Stay_In_Current_City_Years  Marital_Status  Product_Category_1  \\\n",
       "1                          2.0             0.0                 1.0   \n",
       "6                          2.0             1.0                 1.0   \n",
       "13                         1.0             1.0                 1.0   \n",
       "14                         1.0             0.0                 5.0   \n",
       "16                         1.0             0.0                 2.0   \n",
       "18                         1.0             1.0                 1.0   \n",
       "19                         4.0             1.0                 1.0   \n",
       "24                         4.0             1.0                 1.0   \n",
       "28                         0.0             0.0                 5.0   \n",
       "29                         4.0             1.0                 2.0   \n",
       "36                         4.0             1.0                 2.0   \n",
       "38                         4.0             1.0                 1.0   \n",
       "39                         4.0             1.0                 1.0   \n",
       "41                         4.0             1.0                 1.0   \n",
       "43                         4.0             1.0                 2.0   \n",
       "44                         4.0             1.0                 6.0   \n",
       "46                         4.0             1.0                 1.0   \n",
       "48                         1.0             0.0                 1.0   \n",
       "54                         3.0             1.0                 1.0   \n",
       "64                         1.0             0.0                 1.0   \n",
       "\n",
       "    Product_Category_2  Product_Category_3  Purchase  \n",
       "1                  6.0                14.0   15200.0  \n",
       "6                  8.0                17.0   19215.0  \n",
       "13                 2.0                 5.0   15665.0  \n",
       "14                 8.0                14.0    5378.0  \n",
       "16                 3.0                 4.0   13055.0  \n",
       "18                14.0                16.0   11788.0  \n",
       "19                 5.0                15.0   19614.0  \n",
       "24                 8.0                14.0   11927.0  \n",
       "28                 8.0                14.0    5391.0  \n",
       "29                 4.0                 8.0   16352.0  \n",
       "36                 4.0                 9.0   12909.0  \n",
       "38                11.0                15.0   15212.0  \n",
       "39                 2.0                 5.0   15705.0  \n",
       "41                15.0                16.0   18963.0  \n",
       "43                 4.0                 9.0   16406.0  \n",
       "44                10.0                13.0   12642.0  \n",
       "46                 6.0                 8.0   11562.0  \n",
       "48                 2.0                 5.0   19327.0  \n",
       "54                 5.0                 6.0   12107.0  \n",
       "64                 2.0                 6.0   11458.0  "
      ]
     },
     "execution_count": 16,
     "metadata": {},
     "output_type": "execute_result"
    }
   ],
   "source": [
    "data.head(20)"
   ]
  },
  {
   "cell_type": "code",
   "execution_count": 17,
   "metadata": {
    "colab": {
     "base_uri": "https://localhost:8080/",
     "height": 364
    },
    "id": "SB8lnHv78va-",
    "outputId": "9c0b7830-5e3f-4720-c1ef-1aed3e97b8e4"
   },
   "outputs": [
    {
     "data": {
      "text/html": [
       "<div>\n",
       "<style scoped>\n",
       "    .dataframe tbody tr th:only-of-type {\n",
       "        vertical-align: middle;\n",
       "    }\n",
       "\n",
       "    .dataframe tbody tr th {\n",
       "        vertical-align: top;\n",
       "    }\n",
       "\n",
       "    .dataframe thead th {\n",
       "        text-align: right;\n",
       "    }\n",
       "</style>\n",
       "<table border=\"1\" class=\"dataframe\">\n",
       "  <thead>\n",
       "    <tr style=\"text-align: right;\">\n",
       "      <th></th>\n",
       "      <th>User_ID</th>\n",
       "      <th>Product_ID</th>\n",
       "      <th>Gender</th>\n",
       "      <th>Age</th>\n",
       "      <th>Occupation</th>\n",
       "      <th>City_Category</th>\n",
       "      <th>Stay_In_Current_City_Years</th>\n",
       "      <th>Marital_Status</th>\n",
       "      <th>Product_Category_1</th>\n",
       "      <th>Product_Category_2</th>\n",
       "      <th>Product_Category_3</th>\n",
       "      <th>Purchase</th>\n",
       "    </tr>\n",
       "  </thead>\n",
       "  <tbody>\n",
       "    <tr>\n",
       "      <th>count</th>\n",
       "      <td>80582.000000</td>\n",
       "      <td>80582.000000</td>\n",
       "      <td>80582.000000</td>\n",
       "      <td>80582.000000</td>\n",
       "      <td>80582.000000</td>\n",
       "      <td>80582.000000</td>\n",
       "      <td>80582.000000</td>\n",
       "      <td>80582.000000</td>\n",
       "      <td>80582.000000</td>\n",
       "      <td>80582.000000</td>\n",
       "      <td>80582.000000</td>\n",
       "      <td>80582.000000</td>\n",
       "    </tr>\n",
       "    <tr>\n",
       "      <th>mean</th>\n",
       "      <td>2873.199809</td>\n",
       "      <td>1422.191693</td>\n",
       "      <td>0.776216</td>\n",
       "      <td>2.451540</td>\n",
       "      <td>8.173426</td>\n",
       "      <td>1.087513</td>\n",
       "      <td>1.860775</td>\n",
       "      <td>0.401752</td>\n",
       "      <td>2.738366</td>\n",
       "      <td>6.892085</td>\n",
       "      <td>12.658298</td>\n",
       "      <td>11628.183279</td>\n",
       "    </tr>\n",
       "    <tr>\n",
       "      <th>std</th>\n",
       "      <td>1664.796297</td>\n",
       "      <td>915.002638</td>\n",
       "      <td>0.416782</td>\n",
       "      <td>1.338429</td>\n",
       "      <td>6.487913</td>\n",
       "      <td>0.758965</td>\n",
       "      <td>1.285501</td>\n",
       "      <td>0.490255</td>\n",
       "      <td>2.563225</td>\n",
       "      <td>4.498417</td>\n",
       "      <td>4.129156</td>\n",
       "      <td>5069.515441</td>\n",
       "    </tr>\n",
       "    <tr>\n",
       "      <th>min</th>\n",
       "      <td>1.000000</td>\n",
       "      <td>0.000000</td>\n",
       "      <td>0.000000</td>\n",
       "      <td>0.000000</td>\n",
       "      <td>0.000000</td>\n",
       "      <td>0.000000</td>\n",
       "      <td>0.000000</td>\n",
       "      <td>0.000000</td>\n",
       "      <td>1.000000</td>\n",
       "      <td>2.000000</td>\n",
       "      <td>3.000000</td>\n",
       "      <td>186.000000</td>\n",
       "    </tr>\n",
       "    <tr>\n",
       "      <th>25%</th>\n",
       "      <td>1427.000000</td>\n",
       "      <td>701.000000</td>\n",
       "      <td>1.000000</td>\n",
       "      <td>2.000000</td>\n",
       "      <td>2.000000</td>\n",
       "      <td>1.000000</td>\n",
       "      <td>1.000000</td>\n",
       "      <td>0.000000</td>\n",
       "      <td>1.000000</td>\n",
       "      <td>2.000000</td>\n",
       "      <td>9.000000</td>\n",
       "      <td>7868.000000</td>\n",
       "    </tr>\n",
       "    <tr>\n",
       "      <th>50%</th>\n",
       "      <td>2916.000000</td>\n",
       "      <td>1286.000000</td>\n",
       "      <td>1.000000</td>\n",
       "      <td>2.000000</td>\n",
       "      <td>7.000000</td>\n",
       "      <td>1.000000</td>\n",
       "      <td>2.000000</td>\n",
       "      <td>0.000000</td>\n",
       "      <td>1.000000</td>\n",
       "      <td>6.000000</td>\n",
       "      <td>14.000000</td>\n",
       "      <td>11744.500000</td>\n",
       "    </tr>\n",
       "    <tr>\n",
       "      <th>75%</th>\n",
       "      <td>4215.000000</td>\n",
       "      <td>2044.000000</td>\n",
       "      <td>1.000000</td>\n",
       "      <td>3.000000</td>\n",
       "      <td>14.000000</td>\n",
       "      <td>2.000000</td>\n",
       "      <td>3.000000</td>\n",
       "      <td>1.000000</td>\n",
       "      <td>4.000000</td>\n",
       "      <td>10.000000</td>\n",
       "      <td>16.000000</td>\n",
       "      <td>15610.000000</td>\n",
       "    </tr>\n",
       "    <tr>\n",
       "      <th>max</th>\n",
       "      <td>5891.000000</td>\n",
       "      <td>3506.000000</td>\n",
       "      <td>1.000000</td>\n",
       "      <td>6.000000</td>\n",
       "      <td>20.000000</td>\n",
       "      <td>2.000000</td>\n",
       "      <td>4.000000</td>\n",
       "      <td>1.000000</td>\n",
       "      <td>15.000000</td>\n",
       "      <td>16.000000</td>\n",
       "      <td>18.000000</td>\n",
       "      <td>23958.000000</td>\n",
       "    </tr>\n",
       "  </tbody>\n",
       "</table>\n",
       "</div>"
      ],
      "text/plain": [
       "            User_ID    Product_ID        Gender           Age    Occupation  \\\n",
       "count  80582.000000  80582.000000  80582.000000  80582.000000  80582.000000   \n",
       "mean    2873.199809   1422.191693      0.776216      2.451540      8.173426   \n",
       "std     1664.796297    915.002638      0.416782      1.338429      6.487913   \n",
       "min        1.000000      0.000000      0.000000      0.000000      0.000000   \n",
       "25%     1427.000000    701.000000      1.000000      2.000000      2.000000   \n",
       "50%     2916.000000   1286.000000      1.000000      2.000000      7.000000   \n",
       "75%     4215.000000   2044.000000      1.000000      3.000000     14.000000   \n",
       "max     5891.000000   3506.000000      1.000000      6.000000     20.000000   \n",
       "\n",
       "       City_Category  Stay_In_Current_City_Years  Marital_Status  \\\n",
       "count   80582.000000                80582.000000    80582.000000   \n",
       "mean        1.087513                    1.860775        0.401752   \n",
       "std         0.758965                    1.285501        0.490255   \n",
       "min         0.000000                    0.000000        0.000000   \n",
       "25%         1.000000                    1.000000        0.000000   \n",
       "50%         1.000000                    2.000000        0.000000   \n",
       "75%         2.000000                    3.000000        1.000000   \n",
       "max         2.000000                    4.000000        1.000000   \n",
       "\n",
       "       Product_Category_1  Product_Category_2  Product_Category_3  \\\n",
       "count        80582.000000        80582.000000        80582.000000   \n",
       "mean             2.738366            6.892085           12.658298   \n",
       "std              2.563225            4.498417            4.129156   \n",
       "min              1.000000            2.000000            3.000000   \n",
       "25%              1.000000            2.000000            9.000000   \n",
       "50%              1.000000            6.000000           14.000000   \n",
       "75%              4.000000           10.000000           16.000000   \n",
       "max             15.000000           16.000000           18.000000   \n",
       "\n",
       "           Purchase  \n",
       "count  80582.000000  \n",
       "mean   11628.183279  \n",
       "std     5069.515441  \n",
       "min      186.000000  \n",
       "25%     7868.000000  \n",
       "50%    11744.500000  \n",
       "75%    15610.000000  \n",
       "max    23958.000000  "
      ]
     },
     "execution_count": 17,
     "metadata": {},
     "output_type": "execute_result"
    }
   ],
   "source": [
    "#getting the five points summary\n",
    "data.describe()"
   ]
  },
  {
   "cell_type": "code",
   "execution_count": 18,
   "metadata": {
    "colab": {
     "base_uri": "https://localhost:8080/"
    },
    "id": "2-sehytKMzu_",
    "outputId": "42692665-b4bd-4bc0-d530-360f84f037a8"
   },
   "outputs": [
    {
     "data": {
      "text/plain": [
       "Index(['User_ID', 'Product_ID', 'Gender', 'Age', 'Occupation', 'City_Category',\n",
       "       'Stay_In_Current_City_Years', 'Marital_Status', 'Product_Category_1',\n",
       "       'Product_Category_2', 'Product_Category_3', 'Purchase'],\n",
       "      dtype='object')"
      ]
     },
     "execution_count": 18,
     "metadata": {},
     "output_type": "execute_result"
    }
   ],
   "source": [
    "data.columns"
   ]
  },
  {
   "cell_type": "code",
   "execution_count": 19,
   "metadata": {
    "colab": {
     "base_uri": "https://localhost:8080/",
     "height": 386
    },
    "id": "3iH6K1iD-Xrj",
    "outputId": "493ced60-dabe-46fe-d3bf-7433a9534b98"
   },
   "outputs": [
    {
     "data": {
      "text/plain": [
       "<seaborn.axisgrid.FacetGrid at 0x16677c2bdc0>"
      ]
     },
     "execution_count": 19,
     "metadata": {},
     "output_type": "execute_result"
    },
    {
     "data": {
      "image/png": "[encoded data removed]",
      "text/plain": [
       "<Figure size 360x360 with 1 Axes>"
      ]
     },
     "metadata": {
      "needs_background": "light"
     },
     "output_type": "display_data"
    }
   ],
   "source": [
    "#visualizations to understand the distribution of the various features\n",
    "sns.catplot(data=data, x='Gender', y='User_ID', kind='bar')"
   ]
  },
  {
   "cell_type": "markdown",
   "metadata": {
    "id": "OfmQ5WDrPlp5"
   },
   "source": [
    "### Amongst all the purshases made, majority of the purchases were made by Women/Female."
   ]
  },
  {
   "cell_type": "code",
   "execution_count": 20,
   "metadata": {
    "colab": {
     "base_uri": "https://localhost:8080/",
     "height": 458
    },
    "id": "NsIifQqKNAzc",
    "outputId": "80b98dd8-55e6-4694-8ff9-44e9b6e65325"
   },
   "outputs": [
    {
     "data": {
      "text/plain": [
       "<seaborn.axisgrid.FacetGrid at 0x16678f5a8b0>"
      ]
     },
     "execution_count": 20,
     "metadata": {},
     "output_type": "execute_result"
    },
    {
     "data": {
      "image/png": "[encoded data removed]",
      "text/plain": [
       "<Figure size 476.875x432 with 1 Axes>"
      ]
     },
     "metadata": {
      "needs_background": "light"
     },
     "output_type": "display_data"
    }
   ],
   "source": [
    "sns.catplot(data=data, x='Age', y='User_ID', hue='Gender', kind='bar', height=6)"
   ]
  },
  {
   "cell_type": "markdown",
   "metadata": {
    "id": "7bVG9pDmULPj"
   },
   "source": [
    "###Inferences from the Plot:\n",
    "1. The most frequent purchases came from the females having user ids that belong to age category 4(36-45)\n",
    "2. The least frequent purchases came from the males of the age category 1(18-25), and females of age category 0(0-17). "
   ]
  },
  {
   "cell_type": "code",
   "execution_count": 21,
   "metadata": {
    "colab": {
     "base_uri": "https://localhost:8080/",
     "height": 458
    },
    "id": "0_OmSRtkVGVm",
    "outputId": "d7edbe5f-4b02-457b-b3f6-4ac7ded09a74"
   },
   "outputs": [
    {
     "data": {
      "text/plain": [
       "<seaborn.axisgrid.FacetGrid at 0x16679014100>"
      ]
     },
     "execution_count": 21,
     "metadata": {},
     "output_type": "execute_result"
    },
    {
     "data": {
      "image/png": "[encoded data removed]",
      "text/plain": [
       "<Figure size 476.875x432 with 1 Axes>"
      ]
     },
     "metadata": {
      "needs_background": "light"
     },
     "output_type": "display_data"
    }
   ],
   "source": [
    "sns.catplot(data=data, x='Marital_Status', y='User_ID', hue='Gender', kind='bar', height=6)"
   ]
  },
  {
   "cell_type": "markdown",
   "metadata": {
    "id": "tBIwBBl8Dd12"
   },
   "source": [
    "### the gender ratio in unmarried customers is almost similar, whereas the married customers have a sightly higher number of females in the lot. "
   ]
  },
  {
   "cell_type": "code",
   "execution_count": 22,
   "metadata": {
    "colab": {
     "base_uri": "https://localhost:8080/",
     "height": 407
    },
    "id": "Vn8PGlmwQHu1",
    "outputId": "bf6cf3d7-c415-4222-deb0-09a7c0c485bf"
   },
   "outputs": [
    {
     "name": "stderr",
     "output_type": "stream",
     "text": [
      "C:\\Users\\Dell\\anaconda3\\lib\\site-packages\\seaborn\\_decorators.py:36: FutureWarning: Pass the following variable as a keyword arg: x. From version 0.12, the only valid positional argument will be `data`, and passing other arguments without an explicit keyword will result in an error or misinterpretation.\n",
      "  warnings.warn(\n"
     ]
    },
    {
     "data": {
      "text/plain": [
       "<AxesSubplot:xlabel='Product_Category_1', ylabel='count'>"
      ]
     },
     "execution_count": 22,
     "metadata": {},
     "output_type": "execute_result"
    },
    {
     "data": {
      "image/png": "[encoded data removed]",
      "text/plain": [
       "<Figure size 720x360 with 1 Axes>"
      ]
     },
     "metadata": {
      "needs_background": "light"
     },
     "output_type": "display_data"
    }
   ],
   "source": [
    "plt.figure(figsize=(10,5))\n",
    "sns.countplot(data['Product_Category_1'])"
   ]
  },
  {
   "cell_type": "markdown",
   "metadata": {
    "id": "K8srSlL3Dvny"
   },
   "source": [
    "### The product_category_1 sees a great rise of product category 1 and diminishes with the other products. The other considerable categories are 5, 2, 3, 6, 8, etc."
   ]
  },
  {
   "cell_type": "code",
   "execution_count": 23,
   "metadata": {
    "colab": {
     "base_uri": "https://localhost:8080/",
     "height": 407
    },
    "id": "6a9ftetXUdiS",
    "outputId": "d3ac6abc-1610-4850-acdf-1758db718b26"
   },
   "outputs": [
    {
     "name": "stderr",
     "output_type": "stream",
     "text": [
      "C:\\Users\\Dell\\anaconda3\\lib\\site-packages\\seaborn\\_decorators.py:36: FutureWarning: Pass the following variable as a keyword arg: x. From version 0.12, the only valid positional argument will be `data`, and passing other arguments without an explicit keyword will result in an error or misinterpretation.\n",
      "  warnings.warn(\n"
     ]
    },
    {
     "data": {
      "text/plain": [
       "<AxesSubplot:xlabel='Product_Category_2', ylabel='count'>"
      ]
     },
     "execution_count": 23,
     "metadata": {},
     "output_type": "execute_result"
    },
    {
     "data": {
      "image/png": "[encoded data removed]",
      "text/plain": [
       "<Figure size 720x360 with 1 Axes>"
      ]
     },
     "metadata": {
      "needs_background": "light"
     },
     "output_type": "display_data"
    }
   ],
   "source": [
    "plt.figure(figsize=(10,5))\n",
    "sns.countplot(data['Product_Category_2'])"
   ]
  },
  {
   "cell_type": "markdown",
   "metadata": {
    "id": "ziZQWOZJD9cg"
   },
   "source": [
    "### Product_Category_2 sees a considerate balance among categories. With category 2 topping the charts, and other considerable categories are 8, ,4,5,6,14,15,etc."
   ]
  },
  {
   "cell_type": "code",
   "execution_count": 24,
   "metadata": {
    "colab": {
     "base_uri": "https://localhost:8080/",
     "height": 407
    },
    "id": "jC7M7cJCUfan",
    "outputId": "cbbc06b2-a199-48cf-8799-f50736016fc6"
   },
   "outputs": [
    {
     "name": "stderr",
     "output_type": "stream",
     "text": [
      "C:\\Users\\Dell\\anaconda3\\lib\\site-packages\\seaborn\\_decorators.py:36: FutureWarning: Pass the following variable as a keyword arg: x. From version 0.12, the only valid positional argument will be `data`, and passing other arguments without an explicit keyword will result in an error or misinterpretation.\n",
      "  warnings.warn(\n"
     ]
    },
    {
     "data": {
      "text/plain": [
       "<AxesSubplot:xlabel='Product_Category_3', ylabel='count'>"
      ]
     },
     "execution_count": 24,
     "metadata": {},
     "output_type": "execute_result"
    },
    {
     "data": {
      "image/png": "[encoded data removed]",
      "text/plain": [
       "<Figure size 720x360 with 1 Axes>"
      ]
     },
     "metadata": {
      "needs_background": "light"
     },
     "output_type": "display_data"
    }
   ],
   "source": [
    "plt.figure(figsize=(10,5))\n",
    "sns.countplot(data['Product_Category_3'])"
   ]
  },
  {
   "cell_type": "markdown",
   "metadata": {
    "id": "n5jIcIt5EOoH"
   },
   "source": [
    "### For product_category_3, the balance is towards the end with 16 topping the charts, and other considerable categories are 15, 14, 5, 8, 9, 17, etc."
   ]
  },
  {
   "cell_type": "code",
   "execution_count": 25,
   "metadata": {
    "colab": {
     "base_uri": "https://localhost:8080/",
     "height": 406
    },
    "id": "Ue8L2Yt9UhGH",
    "outputId": "2c996720-179e-4598-d449-a85efbe59efe"
   },
   "outputs": [
    {
     "name": "stderr",
     "output_type": "stream",
     "text": [
      "C:\\Users\\Dell\\anaconda3\\lib\\site-packages\\seaborn\\_decorators.py:36: FutureWarning: Pass the following variable as a keyword arg: x. From version 0.12, the only valid positional argument will be `data`, and passing other arguments without an explicit keyword will result in an error or misinterpretation.\n",
      "  warnings.warn(\n"
     ]
    },
    {
     "data": {
      "text/plain": [
       "<AxesSubplot:xlabel='Occupation', ylabel='count'>"
      ]
     },
     "execution_count": 25,
     "metadata": {},
     "output_type": "execute_result"
    },
    {
     "data": {
      "image/png": "[encoded data removed]",
      "text/plain": [
       "<Figure size 720x360 with 1 Axes>"
      ]
     },
     "metadata": {
      "needs_background": "light"
     },
     "output_type": "display_data"
    }
   ],
   "source": [
    "plt.figure(figsize=(10,5))\n",
    "sns.countplot(data['Occupation'])"
   ]
  },
  {
   "cell_type": "markdown",
   "metadata": {
    "id": "-Mo3FbloEgty"
   },
   "source": [
    "### occupation also sees a constant balance with 4 topping the chart, and other categories in the considerable amount with 0,1,2,7,12,17,20."
   ]
  },
  {
   "cell_type": "code",
   "execution_count": 26,
   "metadata": {
    "colab": {
     "base_uri": "https://localhost:8080/",
     "height": 407
    },
    "id": "i2QNxjDHU_iu",
    "outputId": "c2e6f0be-41be-4e58-b7ff-7e6b4429d3e4"
   },
   "outputs": [
    {
     "name": "stderr",
     "output_type": "stream",
     "text": [
      "C:\\Users\\Dell\\anaconda3\\lib\\site-packages\\seaborn\\_decorators.py:36: FutureWarning: Pass the following variable as a keyword arg: x. From version 0.12, the only valid positional argument will be `data`, and passing other arguments without an explicit keyword will result in an error or misinterpretation.\n",
      "  warnings.warn(\n"
     ]
    },
    {
     "data": {
      "text/plain": [
       "<AxesSubplot:xlabel='Stay_In_Current_City_Years', ylabel='count'>"
      ]
     },
     "execution_count": 26,
     "metadata": {},
     "output_type": "execute_result"
    },
    {
     "data": {
      "image/png": "[encoded data removed]",
      "text/plain": [
       "<Figure size 720x360 with 1 Axes>"
      ]
     },
     "metadata": {
      "needs_background": "light"
     },
     "output_type": "display_data"
    }
   ],
   "source": [
    "plt.figure(figsize=(10,5))\n",
    "sns.countplot(data['Stay_In_Current_City_Years'])"
   ]
  },
  {
   "cell_type": "markdown",
   "metadata": {
    "id": "ajCJwmCmEtGJ"
   },
   "source": [
    "### Majority of the customers have stayed a year in the city."
   ]
  },
  {
   "cell_type": "code",
   "execution_count": 27,
   "metadata": {
    "colab": {
     "base_uri": "https://localhost:8080/",
     "height": 353
    },
    "id": "OCykXaiRVjew",
    "outputId": "124647f1-8256-4f94-9010-86f2208b4061"
   },
   "outputs": [
    {
     "name": "stderr",
     "output_type": "stream",
     "text": [
      "C:\\Users\\Dell\\anaconda3\\lib\\site-packages\\seaborn\\distributions.py:2619: FutureWarning: `distplot` is a deprecated function and will be removed in a future version. Please adapt your code to use either `displot` (a figure-level function with similar flexibility) or `histplot` (an axes-level function for histograms).\n",
      "  warnings.warn(msg, FutureWarning)\n"
     ]
    },
    {
     "data": {
      "text/plain": [
       "<AxesSubplot:xlabel='Purchase', ylabel='Density'>"
      ]
     },
     "execution_count": 27,
     "metadata": {},
     "output_type": "execute_result"
    },
    {
     "data": {
      "image/png": "[encoded data removed]",
      "text/plain": [
       "<Figure size 432x288 with 1 Axes>"
      ]
     },
     "metadata": {
      "needs_background": "light"
     },
     "output_type": "display_data"
    }
   ],
   "source": [
    "sns.distplot(data['Purchase'])"
   ]
  },
  {
   "cell_type": "markdown",
   "metadata": {
    "id": "SLDd_UG2E1ni"
   },
   "source": [
    "### Purchases is not accumulated in a range, rather varies in different intervals. "
   ]
  },
  {
   "cell_type": "code",
   "execution_count": 28,
   "metadata": {
    "colab": {
     "base_uri": "https://localhost:8080/"
    },
    "id": "dmMvJ4gmV195",
    "outputId": "01c6538a-c0c9-4fac-f317-447558378a07"
   },
   "outputs": [],
   "source": [
    "#checking the correlation of the features\n",
    "corr_spearman = data.corr()\n",
    "corr_pearson = data.corr(method='pearson')\n",
    "corr_kendall = data.corr(method='kendall')"
   ]
  },
  {
   "cell_type": "code",
   "execution_count": 29,
   "metadata": {
    "colab": {
     "base_uri": "https://localhost:8080/",
     "height": 465
    },
    "id": "h7YsBzApdaMZ",
    "outputId": "e01fa76d-a595-4074-da5a-855d7a5709df"
   },
   "outputs": [
    {
     "data": {
      "text/plain": [
       "<AxesSubplot:>"
      ]
     },
     "execution_count": 29,
     "metadata": {},
     "output_type": "execute_result"
    },
    {
     "data": {
      "image/png": "[encoded data removed]",
      "text/plain": [
       "<Figure size 1080x360 with 2 Axes>"
      ]
     },
     "metadata": {
      "needs_background": "light"
     },
     "output_type": "display_data"
    }
   ],
   "source": [
    "#spearman correlation\n",
    "plt.figure(figsize=(15,5))\n",
    "sns.heatmap(corr_spearman, annot=True)"
   ]
  },
  {
   "cell_type": "code",
   "execution_count": 30,
   "metadata": {
    "colab": {
     "base_uri": "https://localhost:8080/",
     "height": 465
    },
    "id": "BsgfjXxDdh10",
    "outputId": "bf7659b1-321b-4f07-efcb-e77ea6a0e4e2"
   },
   "outputs": [
    {
     "data": {
      "text/plain": [
       "<AxesSubplot:>"
      ]
     },
     "execution_count": 30,
     "metadata": {},
     "output_type": "execute_result"
    },
    {
     "data": {
      "image/png": "[encoded data removed]",
      "text/plain": [
       "<Figure size 1080x360 with 2 Axes>"
      ]
     },
     "metadata": {
      "needs_background": "light"
     },
     "output_type": "display_data"
    }
   ],
   "source": [
    "#kendall correlation\n",
    "plt.figure(figsize=(15,5))\n",
    "sns.heatmap(corr_kendall, annot=True)"
   ]
  },
  {
   "cell_type": "code",
   "execution_count": 31,
   "metadata": {
    "colab": {
     "base_uri": "https://localhost:8080/",
     "height": 465
    },
    "id": "9eN31o98dzTE",
    "outputId": "be3d5016-9540-4994-9155-6680ed5c603c"
   },
   "outputs": [
    {
     "data": {
      "text/plain": [
       "<AxesSubplot:>"
      ]
     },
     "execution_count": 31,
     "metadata": {},
     "output_type": "execute_result"
    },
    {
     "data": {
      "image/png": "[encoded data removed]",
      "text/plain": [
       "<Figure size 1080x360 with 2 Axes>"
      ]
     },
     "metadata": {
      "needs_background": "light"
     },
     "output_type": "display_data"
    }
   ],
   "source": [
    "#pearson correlation\n",
    "plt.figure(figsize=(15,5))\n",
    "sns.heatmap(corr_pearson, annot=True)"
   ]
  },
  {
   "cell_type": "markdown",
   "metadata": {
    "id": "smFOcmbYevpB"
   },
   "source": [
    "## Statistical Analysis "
   ]
  },
  {
   "cell_type": "code",
   "execution_count": 32,
   "metadata": {},
   "outputs": [
    {
     "data": {
      "text/html": [
       "<div>\n",
       "<style scoped>\n",
       "    .dataframe tbody tr th:only-of-type {\n",
       "        vertical-align: middle;\n",
       "    }\n",
       "\n",
       "    .dataframe tbody tr th {\n",
       "        vertical-align: top;\n",
       "    }\n",
       "\n",
       "    .dataframe thead th {\n",
       "        text-align: right;\n",
       "    }\n",
       "</style>\n",
       "<table border=\"1\" class=\"dataframe\">\n",
       "  <thead>\n",
       "    <tr style=\"text-align: right;\">\n",
       "      <th></th>\n",
       "      <th>User_ID</th>\n",
       "      <th>Product_ID</th>\n",
       "      <th>Gender</th>\n",
       "      <th>Age</th>\n",
       "      <th>Occupation</th>\n",
       "      <th>City_Category</th>\n",
       "      <th>Stay_In_Current_City_Years</th>\n",
       "      <th>Marital_Status</th>\n",
       "      <th>Product_Category_1</th>\n",
       "      <th>Product_Category_2</th>\n",
       "      <th>Product_Category_3</th>\n",
       "      <th>Purchase</th>\n",
       "    </tr>\n",
       "  </thead>\n",
       "  <tbody>\n",
       "    <tr>\n",
       "      <th>1</th>\n",
       "      <td>1</td>\n",
       "      <td>2304</td>\n",
       "      <td>0</td>\n",
       "      <td>0</td>\n",
       "      <td>10.0</td>\n",
       "      <td>0</td>\n",
       "      <td>2.0</td>\n",
       "      <td>0.0</td>\n",
       "      <td>1.0</td>\n",
       "      <td>6.0</td>\n",
       "      <td>14.0</td>\n",
       "      <td>15200.0</td>\n",
       "    </tr>\n",
       "    <tr>\n",
       "      <th>6</th>\n",
       "      <td>4</td>\n",
       "      <td>1684</td>\n",
       "      <td>1</td>\n",
       "      <td>4</td>\n",
       "      <td>7.0</td>\n",
       "      <td>1</td>\n",
       "      <td>2.0</td>\n",
       "      <td>1.0</td>\n",
       "      <td>1.0</td>\n",
       "      <td>8.0</td>\n",
       "      <td>17.0</td>\n",
       "      <td>19215.0</td>\n",
       "    </tr>\n",
       "    <tr>\n",
       "      <th>13</th>\n",
       "      <td>5</td>\n",
       "      <td>1304</td>\n",
       "      <td>1</td>\n",
       "      <td>2</td>\n",
       "      <td>20.0</td>\n",
       "      <td>0</td>\n",
       "      <td>1.0</td>\n",
       "      <td>1.0</td>\n",
       "      <td>1.0</td>\n",
       "      <td>2.0</td>\n",
       "      <td>5.0</td>\n",
       "      <td>15665.0</td>\n",
       "    </tr>\n",
       "    <tr>\n",
       "      <th>14</th>\n",
       "      <td>6</td>\n",
       "      <td>2133</td>\n",
       "      <td>0</td>\n",
       "      <td>5</td>\n",
       "      <td>9.0</td>\n",
       "      <td>0</td>\n",
       "      <td>1.0</td>\n",
       "      <td>0.0</td>\n",
       "      <td>5.0</td>\n",
       "      <td>8.0</td>\n",
       "      <td>14.0</td>\n",
       "      <td>5378.0</td>\n",
       "    </tr>\n",
       "    <tr>\n",
       "      <th>16</th>\n",
       "      <td>6</td>\n",
       "      <td>3475</td>\n",
       "      <td>0</td>\n",
       "      <td>5</td>\n",
       "      <td>9.0</td>\n",
       "      <td>0</td>\n",
       "      <td>1.0</td>\n",
       "      <td>0.0</td>\n",
       "      <td>2.0</td>\n",
       "      <td>3.0</td>\n",
       "      <td>4.0</td>\n",
       "      <td>13055.0</td>\n",
       "    </tr>\n",
       "    <tr>\n",
       "      <th>...</th>\n",
       "      <td>...</td>\n",
       "      <td>...</td>\n",
       "      <td>...</td>\n",
       "      <td>...</td>\n",
       "      <td>...</td>\n",
       "      <td>...</td>\n",
       "      <td>...</td>\n",
       "      <td>...</td>\n",
       "      <td>...</td>\n",
       "      <td>...</td>\n",
       "      <td>...</td>\n",
       "      <td>...</td>\n",
       "    </tr>\n",
       "    <tr>\n",
       "      <th>262997</th>\n",
       "      <td>4360</td>\n",
       "      <td>2433</td>\n",
       "      <td>0</td>\n",
       "      <td>4</td>\n",
       "      <td>16.0</td>\n",
       "      <td>1</td>\n",
       "      <td>0.0</td>\n",
       "      <td>1.0</td>\n",
       "      <td>1.0</td>\n",
       "      <td>11.0</td>\n",
       "      <td>16.0</td>\n",
       "      <td>15175.0</td>\n",
       "    </tr>\n",
       "    <tr>\n",
       "      <th>263001</th>\n",
       "      <td>4360</td>\n",
       "      <td>1921</td>\n",
       "      <td>0</td>\n",
       "      <td>4</td>\n",
       "      <td>16.0</td>\n",
       "      <td>1</td>\n",
       "      <td>0.0</td>\n",
       "      <td>1.0</td>\n",
       "      <td>1.0</td>\n",
       "      <td>11.0</td>\n",
       "      <td>15.0</td>\n",
       "      <td>15430.0</td>\n",
       "    </tr>\n",
       "    <tr>\n",
       "      <th>263003</th>\n",
       "      <td>4360</td>\n",
       "      <td>3209</td>\n",
       "      <td>0</td>\n",
       "      <td>4</td>\n",
       "      <td>16.0</td>\n",
       "      <td>1</td>\n",
       "      <td>0.0</td>\n",
       "      <td>1.0</td>\n",
       "      <td>1.0</td>\n",
       "      <td>2.0</td>\n",
       "      <td>15.0</td>\n",
       "      <td>15387.0</td>\n",
       "    </tr>\n",
       "    <tr>\n",
       "      <th>263006</th>\n",
       "      <td>4360</td>\n",
       "      <td>329</td>\n",
       "      <td>0</td>\n",
       "      <td>4</td>\n",
       "      <td>16.0</td>\n",
       "      <td>1</td>\n",
       "      <td>0.0</td>\n",
       "      <td>1.0</td>\n",
       "      <td>8.0</td>\n",
       "      <td>13.0</td>\n",
       "      <td>16.0</td>\n",
       "      <td>5861.0</td>\n",
       "    </tr>\n",
       "    <tr>\n",
       "      <th>263011</th>\n",
       "      <td>4361</td>\n",
       "      <td>1015</td>\n",
       "      <td>1</td>\n",
       "      <td>3</td>\n",
       "      <td>1.0</td>\n",
       "      <td>1</td>\n",
       "      <td>3.0</td>\n",
       "      <td>0.0</td>\n",
       "      <td>1.0</td>\n",
       "      <td>8.0</td>\n",
       "      <td>17.0</td>\n",
       "      <td>19253.0</td>\n",
       "    </tr>\n",
       "  </tbody>\n",
       "</table>\n",
       "<p>80582 rows × 12 columns</p>\n",
       "</div>"
      ],
      "text/plain": [
       "        User_ID  Product_ID  Gender  Age  Occupation  City_Category  \\\n",
       "1             1        2304       0    0        10.0              0   \n",
       "6             4        1684       1    4         7.0              1   \n",
       "13            5        1304       1    2        20.0              0   \n",
       "14            6        2133       0    5         9.0              0   \n",
       "16            6        3475       0    5         9.0              0   \n",
       "...         ...         ...     ...  ...         ...            ...   \n",
       "262997     4360        2433       0    4        16.0              1   \n",
       "263001     4360        1921       0    4        16.0              1   \n",
       "263003     4360        3209       0    4        16.0              1   \n",
       "263006     4360         329       0    4        16.0              1   \n",
       "263011     4361        1015       1    3         1.0              1   \n",
       "\n",
       "        Stay_In_Current_City_Years  Marital_Status  Product_Category_1  \\\n",
       "1                              2.0             0.0                 1.0   \n",
       "6                              2.0             1.0                 1.0   \n",
       "13                             1.0             1.0                 1.0   \n",
       "14                             1.0             0.0                 5.0   \n",
       "16                             1.0             0.0                 2.0   \n",
       "...                            ...             ...                 ...   \n",
       "262997                         0.0             1.0                 1.0   \n",
       "263001                         0.0             1.0                 1.0   \n",
       "263003                         0.0             1.0                 1.0   \n",
       "263006                         0.0             1.0                 8.0   \n",
       "263011                         3.0             0.0                 1.0   \n",
       "\n",
       "        Product_Category_2  Product_Category_3  Purchase  \n",
       "1                      6.0                14.0   15200.0  \n",
       "6                      8.0                17.0   19215.0  \n",
       "13                     2.0                 5.0   15665.0  \n",
       "14                     8.0                14.0    5378.0  \n",
       "16                     3.0                 4.0   13055.0  \n",
       "...                    ...                 ...       ...  \n",
       "262997                11.0                16.0   15175.0  \n",
       "263001                11.0                15.0   15430.0  \n",
       "263003                 2.0                15.0   15387.0  \n",
       "263006                13.0                16.0    5861.0  \n",
       "263011                 8.0                17.0   19253.0  \n",
       "\n",
       "[80582 rows x 12 columns]"
      ]
     },
     "execution_count": 32,
     "metadata": {},
     "output_type": "execute_result"
    }
   ],
   "source": [
    "data"
   ]
  },
  {
   "cell_type": "markdown",
   "metadata": {
    "id": "ZVRCD1Bjm_Kx"
   },
   "source": [
    "### One Sample Test For Mean \n",
    "let's Suppose, it was observed that the average purchase made by the Men of the age 18-25 was 10000. Is it still the same? "
   ]
  },
  {
   "cell_type": "code",
   "execution_count": 33,
   "metadata": {
    "id": "wCklvWE4WzsU"
   },
   "outputs": [],
   "source": [
    "#null hypothesis - The mean is 10000\n",
    "#alternate hypothesis - The mean is not 10000"
   ]
  },
  {
   "cell_type": "code",
   "execution_count": 34,
   "metadata": {
    "id": "PRvTUp7dd40M"
   },
   "outputs": [],
   "source": [
    "new_data = data.loc[(data['Age'] == 1) & data['Gender'] == 1]"
   ]
  },
  {
   "cell_type": "code",
   "execution_count": 35,
   "metadata": {
    "colab": {
     "base_uri": "https://localhost:8080/"
    },
    "id": "hMnRz7slVik_",
    "outputId": "63ebe116-29a4-4570-f5cb-1ba0b5698f13"
   },
   "outputs": [
    {
     "data": {
      "text/plain": [
       "(11904, 12)"
      ]
     },
     "execution_count": 35,
     "metadata": {},
     "output_type": "execute_result"
    }
   ],
   "source": [
    "new_data.shape"
   ]
  },
  {
   "cell_type": "code",
   "execution_count": 36,
   "metadata": {},
   "outputs": [
    {
     "data": {
      "text/plain": [
       "11785.18817204301"
      ]
     },
     "execution_count": 36,
     "metadata": {},
     "output_type": "execute_result"
    }
   ],
   "source": [
    "new_data[\"Purchase\"].mean()"
   ]
  },
  {
   "cell_type": "code",
   "execution_count": 37,
   "metadata": {
    "id": "JayqxeT5VrtM"
   },
   "outputs": [],
   "source": [
    "sample_size = 1000\n",
    "sample = new_data.sample(sample_size, random_state=0)"
   ]
  },
  {
   "cell_type": "code",
   "execution_count": 38,
   "metadata": {
    "id": "AIQYxMvzV1SX"
   },
   "outputs": [],
   "source": [
    "pos_mean = 10000"
   ]
  },
  {
   "cell_type": "code",
   "execution_count": 39,
   "metadata": {
    "colab": {
     "base_uri": "https://localhost:8080/"
    },
    "id": "B979OAnaV4Px",
    "outputId": "1bba098b-f4cc-42f4-9d7e-206a221bde45"
   },
   "outputs": [
    {
     "name": "stdout",
     "output_type": "stream",
     "text": [
      "11750.447\n"
     ]
    }
   ],
   "source": [
    "sample_mean = sample['Purchase'].mean()\n",
    "print(sample_mean)"
   ]
  },
  {
   "cell_type": "code",
   "execution_count": 40,
   "metadata": {
    "id": "Fv24HA1ZWBOx"
   },
   "outputs": [],
   "source": [
    "#one sample t-test\n",
    "from scipy.stats import ttest_1samp"
   ]
  },
  {
   "cell_type": "code",
   "execution_count": 41,
   "metadata": {
    "colab": {
     "base_uri": "https://localhost:8080/"
    },
    "id": "TooHHzHKWJoO",
    "outputId": "8b3a7e84-2a38-4692-c2bc-b4ba4de3d5e4"
   },
   "outputs": [
    {
     "name": "stdout",
     "output_type": "stream",
     "text": [
      "10.912366335912562 2.8550147774368676e-26\n"
     ]
    }
   ],
   "source": [
    "t_stat, p_value = ttest_1samp(sample['Purchase'], pos_mean)\n",
    "print(t_stat, p_value)"
   ]
  },
  {
   "cell_type": "code",
   "execution_count": 42,
   "metadata": {
    "id": "UGKFydKAWul7"
   },
   "outputs": [],
   "source": [
    "#P-value is less than 0.05, reject the null hypothesis. \n",
    "#therefore, the mean purchase for men aged 18-25 is not 10000. "
   ]
  },
  {
   "cell_type": "markdown",
   "metadata": {
    "id": "zV2GYz4cnB8J"
   },
   "source": [
    "### One Sample Test for Proportion\n",
    "Let's Suppose, It was observed that the percentage of women that spend more than 10000 was 35%. Is it still the same?"
   ]
  },
  {
   "cell_type": "code",
   "execution_count": 43,
   "metadata": {
    "id": "AgwtOSZUnHAR"
   },
   "outputs": [],
   "source": [
    "#null hypothesis - proportion is 35%.\n",
    "#alternate hypothesis - proportion is not 35%. \n",
    "\n",
    "data_new = data.loc[(data['Purchase'] > 10000)]"
   ]
  },
  {
   "cell_type": "code",
   "execution_count": 44,
   "metadata": {
    "colab": {
     "base_uri": "https://localhost:8080/"
    },
    "id": "402sNwVnXjUT",
    "outputId": "1519c96c-f020-4a38-c441-b9c021102375"
   },
   "outputs": [
    {
     "data": {
      "text/html": [
       "<div>\n",
       "<style scoped>\n",
       "    .dataframe tbody tr th:only-of-type {\n",
       "        vertical-align: middle;\n",
       "    }\n",
       "\n",
       "    .dataframe tbody tr th {\n",
       "        vertical-align: top;\n",
       "    }\n",
       "\n",
       "    .dataframe thead th {\n",
       "        text-align: right;\n",
       "    }\n",
       "</style>\n",
       "<table border=\"1\" class=\"dataframe\">\n",
       "  <thead>\n",
       "    <tr style=\"text-align: right;\">\n",
       "      <th></th>\n",
       "      <th>User_ID</th>\n",
       "      <th>Product_ID</th>\n",
       "      <th>Gender</th>\n",
       "      <th>Age</th>\n",
       "      <th>Occupation</th>\n",
       "      <th>City_Category</th>\n",
       "      <th>Stay_In_Current_City_Years</th>\n",
       "      <th>Marital_Status</th>\n",
       "      <th>Product_Category_1</th>\n",
       "      <th>Product_Category_2</th>\n",
       "      <th>Product_Category_3</th>\n",
       "      <th>Purchase</th>\n",
       "    </tr>\n",
       "  </thead>\n",
       "  <tbody>\n",
       "    <tr>\n",
       "      <th>1</th>\n",
       "      <td>1</td>\n",
       "      <td>2304</td>\n",
       "      <td>0</td>\n",
       "      <td>0</td>\n",
       "      <td>10.0</td>\n",
       "      <td>0</td>\n",
       "      <td>2.0</td>\n",
       "      <td>0.0</td>\n",
       "      <td>1.0</td>\n",
       "      <td>6.0</td>\n",
       "      <td>14.0</td>\n",
       "      <td>15200.0</td>\n",
       "    </tr>\n",
       "    <tr>\n",
       "      <th>6</th>\n",
       "      <td>4</td>\n",
       "      <td>1684</td>\n",
       "      <td>1</td>\n",
       "      <td>4</td>\n",
       "      <td>7.0</td>\n",
       "      <td>1</td>\n",
       "      <td>2.0</td>\n",
       "      <td>1.0</td>\n",
       "      <td>1.0</td>\n",
       "      <td>8.0</td>\n",
       "      <td>17.0</td>\n",
       "      <td>19215.0</td>\n",
       "    </tr>\n",
       "    <tr>\n",
       "      <th>13</th>\n",
       "      <td>5</td>\n",
       "      <td>1304</td>\n",
       "      <td>1</td>\n",
       "      <td>2</td>\n",
       "      <td>20.0</td>\n",
       "      <td>0</td>\n",
       "      <td>1.0</td>\n",
       "      <td>1.0</td>\n",
       "      <td>1.0</td>\n",
       "      <td>2.0</td>\n",
       "      <td>5.0</td>\n",
       "      <td>15665.0</td>\n",
       "    </tr>\n",
       "    <tr>\n",
       "      <th>16</th>\n",
       "      <td>6</td>\n",
       "      <td>3475</td>\n",
       "      <td>0</td>\n",
       "      <td>5</td>\n",
       "      <td>9.0</td>\n",
       "      <td>0</td>\n",
       "      <td>1.0</td>\n",
       "      <td>0.0</td>\n",
       "      <td>2.0</td>\n",
       "      <td>3.0</td>\n",
       "      <td>4.0</td>\n",
       "      <td>13055.0</td>\n",
       "    </tr>\n",
       "    <tr>\n",
       "      <th>18</th>\n",
       "      <td>7</td>\n",
       "      <td>356</td>\n",
       "      <td>1</td>\n",
       "      <td>3</td>\n",
       "      <td>1.0</td>\n",
       "      <td>1</td>\n",
       "      <td>1.0</td>\n",
       "      <td>1.0</td>\n",
       "      <td>1.0</td>\n",
       "      <td>14.0</td>\n",
       "      <td>16.0</td>\n",
       "      <td>11788.0</td>\n",
       "    </tr>\n",
       "    <tr>\n",
       "      <th>...</th>\n",
       "      <td>...</td>\n",
       "      <td>...</td>\n",
       "      <td>...</td>\n",
       "      <td>...</td>\n",
       "      <td>...</td>\n",
       "      <td>...</td>\n",
       "      <td>...</td>\n",
       "      <td>...</td>\n",
       "      <td>...</td>\n",
       "      <td>...</td>\n",
       "      <td>...</td>\n",
       "      <td>...</td>\n",
       "    </tr>\n",
       "    <tr>\n",
       "      <th>262995</th>\n",
       "      <td>4360</td>\n",
       "      <td>1087</td>\n",
       "      <td>0</td>\n",
       "      <td>4</td>\n",
       "      <td>16.0</td>\n",
       "      <td>1</td>\n",
       "      <td>0.0</td>\n",
       "      <td>1.0</td>\n",
       "      <td>1.0</td>\n",
       "      <td>11.0</td>\n",
       "      <td>15.0</td>\n",
       "      <td>11661.0</td>\n",
       "    </tr>\n",
       "    <tr>\n",
       "      <th>262997</th>\n",
       "      <td>4360</td>\n",
       "      <td>2433</td>\n",
       "      <td>0</td>\n",
       "      <td>4</td>\n",
       "      <td>16.0</td>\n",
       "      <td>1</td>\n",
       "      <td>0.0</td>\n",
       "      <td>1.0</td>\n",
       "      <td>1.0</td>\n",
       "      <td>11.0</td>\n",
       "      <td>16.0</td>\n",
       "      <td>15175.0</td>\n",
       "    </tr>\n",
       "    <tr>\n",
       "      <th>263001</th>\n",
       "      <td>4360</td>\n",
       "      <td>1921</td>\n",
       "      <td>0</td>\n",
       "      <td>4</td>\n",
       "      <td>16.0</td>\n",
       "      <td>1</td>\n",
       "      <td>0.0</td>\n",
       "      <td>1.0</td>\n",
       "      <td>1.0</td>\n",
       "      <td>11.0</td>\n",
       "      <td>15.0</td>\n",
       "      <td>15430.0</td>\n",
       "    </tr>\n",
       "    <tr>\n",
       "      <th>263003</th>\n",
       "      <td>4360</td>\n",
       "      <td>3209</td>\n",
       "      <td>0</td>\n",
       "      <td>4</td>\n",
       "      <td>16.0</td>\n",
       "      <td>1</td>\n",
       "      <td>0.0</td>\n",
       "      <td>1.0</td>\n",
       "      <td>1.0</td>\n",
       "      <td>2.0</td>\n",
       "      <td>15.0</td>\n",
       "      <td>15387.0</td>\n",
       "    </tr>\n",
       "    <tr>\n",
       "      <th>263011</th>\n",
       "      <td>4361</td>\n",
       "      <td>1015</td>\n",
       "      <td>1</td>\n",
       "      <td>3</td>\n",
       "      <td>1.0</td>\n",
       "      <td>1</td>\n",
       "      <td>3.0</td>\n",
       "      <td>0.0</td>\n",
       "      <td>1.0</td>\n",
       "      <td>8.0</td>\n",
       "      <td>17.0</td>\n",
       "      <td>19253.0</td>\n",
       "    </tr>\n",
       "  </tbody>\n",
       "</table>\n",
       "<p>49390 rows × 12 columns</p>\n",
       "</div>"
      ],
      "text/plain": [
       "        User_ID  Product_ID  Gender  Age  Occupation  City_Category  \\\n",
       "1             1        2304       0    0        10.0              0   \n",
       "6             4        1684       1    4         7.0              1   \n",
       "13            5        1304       1    2        20.0              0   \n",
       "16            6        3475       0    5         9.0              0   \n",
       "18            7         356       1    3         1.0              1   \n",
       "...         ...         ...     ...  ...         ...            ...   \n",
       "262995     4360        1087       0    4        16.0              1   \n",
       "262997     4360        2433       0    4        16.0              1   \n",
       "263001     4360        1921       0    4        16.0              1   \n",
       "263003     4360        3209       0    4        16.0              1   \n",
       "263011     4361        1015       1    3         1.0              1   \n",
       "\n",
       "        Stay_In_Current_City_Years  Marital_Status  Product_Category_1  \\\n",
       "1                              2.0             0.0                 1.0   \n",
       "6                              2.0             1.0                 1.0   \n",
       "13                             1.0             1.0                 1.0   \n",
       "16                             1.0             0.0                 2.0   \n",
       "18                             1.0             1.0                 1.0   \n",
       "...                            ...             ...                 ...   \n",
       "262995                         0.0             1.0                 1.0   \n",
       "262997                         0.0             1.0                 1.0   \n",
       "263001                         0.0             1.0                 1.0   \n",
       "263003                         0.0             1.0                 1.0   \n",
       "263011                         3.0             0.0                 1.0   \n",
       "\n",
       "        Product_Category_2  Product_Category_3  Purchase  \n",
       "1                      6.0                14.0   15200.0  \n",
       "6                      8.0                17.0   19215.0  \n",
       "13                     2.0                 5.0   15665.0  \n",
       "16                     3.0                 4.0   13055.0  \n",
       "18                    14.0                16.0   11788.0  \n",
       "...                    ...                 ...       ...  \n",
       "262995                11.0                15.0   11661.0  \n",
       "262997                11.0                16.0   15175.0  \n",
       "263001                11.0                15.0   15430.0  \n",
       "263003                 2.0                15.0   15387.0  \n",
       "263011                 8.0                17.0   19253.0  \n",
       "\n",
       "[49390 rows x 12 columns]"
      ]
     },
     "execution_count": 44,
     "metadata": {},
     "output_type": "execute_result"
    }
   ],
   "source": [
    "data_new"
   ]
  },
  {
   "cell_type": "code",
   "execution_count": 45,
   "metadata": {
    "id": "Jx7SgfyeX0g7"
   },
   "outputs": [],
   "source": [
    "#No of women in the sample\n",
    "count = data_new['Gender'].value_counts()[0]\n",
    "\n",
    "#number of observations\n",
    "nobs = len(data_new['Gender'])\n",
    "\n",
    "#hypothesised value\n",
    "p0 = 0.35"
   ]
  },
  {
   "cell_type": "code",
   "execution_count": 46,
   "metadata": {},
   "outputs": [
    {
     "data": {
      "text/plain": [
       "1    39215\n",
       "0    10175\n",
       "Name: Gender, dtype: int64"
      ]
     },
     "execution_count": 46,
     "metadata": {},
     "output_type": "execute_result"
    }
   ],
   "source": [
    "data_new['Gender'].value_counts()"
   ]
  },
  {
   "cell_type": "code",
   "execution_count": 47,
   "metadata": {},
   "outputs": [
    {
     "data": {
      "text/plain": [
       "49390"
      ]
     },
     "execution_count": 47,
     "metadata": {},
     "output_type": "execute_result"
    }
   ],
   "source": [
    "count\n",
    "nobs"
   ]
  },
  {
   "cell_type": "code",
   "execution_count": 48,
   "metadata": {
    "colab": {
     "base_uri": "https://localhost:8080/"
    },
    "id": "o3teG3-0Y3Kv",
    "outputId": "81bfdf24-1de2-4199-8d84-c8ea277cb410"
   },
   "outputs": [],
   "source": [
    "#data_new['Gender'].value_counts()/nobs"
   ]
  },
  {
   "cell_type": "code",
   "execution_count": 49,
   "metadata": {
    "id": "-1hbYiVpZjFl"
   },
   "outputs": [],
   "source": [
    "#one sample z test\n",
    "from statsmodels.stats.proportion import proportions_ztest"
   ]
  },
  {
   "cell_type": "code",
   "execution_count": 50,
   "metadata": {
    "colab": {
     "base_uri": "https://localhost:8080/"
    },
    "id": "C0IIWLcJZmqV",
    "outputId": "490f8ff2-1488-4b2d-8a67-abea211beb8a"
   },
   "outputs": [
    {
     "name": "stdout",
     "output_type": "stream",
     "text": [
      "-79.12020590883206 0.0\n"
     ]
    }
   ],
   "source": [
    "z_stat, p_val = proportions_ztest(count=count, \n",
    "                                  nobs=nobs, \n",
    "                                  value=p0)\n",
    "print(z_stat, p_val)"
   ]
  },
  {
   "cell_type": "code",
   "execution_count": 51,
   "metadata": {
    "id": "aMQsRv_UaCKs"
   },
   "outputs": [],
   "source": [
    "#p-value is less than 0.05, reject the null hypothesis. \n",
    "#the proportion of women spending more than 10000, is not 35%. "
   ]
  },
  {
   "cell_type": "markdown",
   "metadata": {
    "id": "d618L50HnH1c"
   },
   "source": [
    "### Two Sample test for Means\n",
    "Is the average purchase made by men and women of the age 18-25 same?"
   ]
  },
  {
   "cell_type": "code",
   "execution_count": 52,
   "metadata": {
    "id": "Z1hTmG5wnL6E"
   },
   "outputs": [],
   "source": [
    "#null hypothesis - average spends are equal \n",
    "#alternate hypothesis - average spends are not equal\n",
    "\n",
    "data_men = data.loc[(data['Gender'] == 1)& (data['Age'] == 1)]\n",
    "data_women = data.loc[(data['Gender'] == 0) & (data['Age'] == 1)]"
   ]
  },
  {
   "cell_type": "code",
   "execution_count": 53,
   "metadata": {
    "id": "7xz7aB-ckTYa"
   },
   "outputs": [],
   "source": [
    "#creating samples\n",
    "data_men_sample = data_men.sample(500, random_state=0)\n",
    "data_women_sample = data_women.sample(500, random_state=0)"
   ]
  },
  {
   "cell_type": "code",
   "execution_count": 54,
   "metadata": {
    "colab": {
     "base_uri": "https://localhost:8080/"
    },
    "id": "94MkafTxkTNu",
    "outputId": "8daa267a-24bd-413c-90d9-4b6e2cee1d93"
   },
   "outputs": [
    {
     "name": "stdout",
     "output_type": "stream",
     "text": [
      "25403579.49849695\n",
      "26680870.93292181\n"
     ]
    }
   ],
   "source": [
    "#checking variances of the two samples\n",
    "print(data_men_sample.Purchase.var())\n",
    "print(data_women_sample.Purchase.var())"
   ]
  },
  {
   "cell_type": "code",
   "execution_count": 55,
   "metadata": {
    "colab": {
     "base_uri": "https://localhost:8080/"
    },
    "id": "vtIzprWgllmt",
    "outputId": "98b93046-40ef-4064-808c-c743533d78bf"
   },
   "outputs": [
    {
     "name": "stdout",
     "output_type": "stream",
     "text": [
      "11885.35\n",
      "10758.212\n"
     ]
    }
   ],
   "source": [
    "#sample means \n",
    "print(data_men_sample.Purchase.mean())\n",
    "print(data_women_sample.Purchase.mean())"
   ]
  },
  {
   "cell_type": "code",
   "execution_count": 56,
   "metadata": {
    "colab": {
     "base_uri": "https://localhost:8080/"
    },
    "id": "5sBgNxStq6tZ",
    "outputId": "801a4414-5800-4bac-ab8a-65bc8a219ee8",
    "scrolled": true
   },
   "outputs": [
    {
     "name": "stdout",
     "output_type": "stream",
     "text": [
      "1.1047700119685318\n"
     ]
    }
   ],
   "source": [
    "#computing f statistic\n",
    "from scipy.stats import f\n",
    "F = data_men_sample.Purchase.mean()/data_women_sample.Purchase.mean()\n",
    "print(F)"
   ]
  },
  {
   "cell_type": "code",
   "execution_count": 57,
   "metadata": {
    "colab": {
     "base_uri": "https://localhost:8080/"
    },
    "id": "0AiMZ_jYtN3i",
    "outputId": "ba3f4eb7-b8f7-4d5e-a159-bc476ace8533"
   },
   "outputs": [
    {
     "name": "stdout",
     "output_type": "stream",
     "text": [
      "499 499\n"
     ]
    }
   ],
   "source": [
    "#calculating the degrees of freedom \n",
    "df1 = len(data_men_sample) - 1\n",
    "df2 = len(data_women_sample) - 1\n",
    "\n",
    "print(df1, df2)"
   ]
  },
  {
   "cell_type": "code",
   "execution_count": 58,
   "metadata": {
    "colab": {
     "base_uri": "https://localhost:8080/"
    },
    "id": "N-80CE4Nticu",
    "outputId": "91e00316-a49e-4ab1-f445-f67b43e86bc6"
   },
   "outputs": [],
   "source": [
    "\n",
    "import scipy\n",
    "result=scipy.stats.f.cdf(F, df1, df2)"
   ]
  },
  {
   "cell_type": "code",
   "execution_count": 59,
   "metadata": {},
   "outputs": [
    {
     "data": {
      "text/plain": [
       "0.13305278453610792"
      ]
     },
     "execution_count": 59,
     "metadata": {},
     "output_type": "execute_result"
    }
   ],
   "source": [
    "#p-value \n",
    "1-result"
   ]
  },
  {
   "cell_type": "code",
   "execution_count": 60,
   "metadata": {
    "id": "raNQj0OKtrWt"
   },
   "outputs": [],
   "source": [
    "#the p-value is greater than 0.05, do not reject the null hypothesis. \n",
    "#the alternate hypothesis is true. variances of both samples are equal "
   ]
  },
  {
   "cell_type": "code",
   "execution_count": 61,
   "metadata": {
    "colab": {
     "base_uri": "https://localhost:8080/"
    },
    "id": "y6E-hQZovTxt",
    "outputId": "4189765b-756d-4210-d2f3-b97d8a00a9e7"
   },
   "outputs": [
    {
     "name": "stdout",
     "output_type": "stream",
     "text": [
      "3.492271910884296 0.0004999157448251494\n"
     ]
    }
   ],
   "source": [
    "#two sample t-test for unequal variances\n",
    "from scipy.stats import ttest_ind\n",
    "\n",
    "t_stat_2, p_val_2 = ttest_ind(data_men_sample[\"Purchase\"], data_women_sample[\"Purchase\"],equal_var=True)\n",
    "print(t_stat_2, p_val_2)"
   ]
  },
  {
   "cell_type": "code",
   "execution_count": 62,
   "metadata": {
    "id": "e7snc-_RvqKV"
   },
   "outputs": [],
   "source": [
    "#we can reject the null hypothesis using the test statistic and since p-value is less than 0.05.\n",
    "#the average purchases are not the same."
   ]
  },
  {
   "cell_type": "markdown",
   "metadata": {
    "id": "OcWayvY0nUbm"
   },
   "source": [
    "### Two Sample test for Proportion\n",
    "Is the percentage of men who have spend more than 10000 same for the ages 18-25 and 26-35"
   ]
  },
  {
   "cell_type": "code",
   "execution_count": 63,
   "metadata": {
    "id": "kiXfGmhJnYLd"
   },
   "outputs": [],
   "source": [
    "#null hypothesis - Percentage of the men in the age groups is same\n",
    "#alternate hypothesis - Percentage of the men in the age groups is not same\n",
    "\n",
    "data_age1 = data.loc[(data['Age'] == 1) & (data['Purchase'] > 10000)]\n",
    "data_age2 = data.loc[(data['Age'] == 2) & (data['Purchase'] > 10000)]"
   ]
  },
  {
   "cell_type": "code",
   "execution_count": 64,
   "metadata": {
    "id": "YcaoiwDsvLmS"
   },
   "outputs": [],
   "source": [
    "data_age1_sample = data_age1.sample(1000, random_state=0)\n",
    "data_age2_sample = data_age2.sample(1000, random_state=0)"
   ]
  },
  {
   "cell_type": "code",
   "execution_count": 65,
   "metadata": {
    "id": "Wc3aPPn191Cn"
   },
   "outputs": [],
   "source": [
    "count = [(data_age1_sample['Gender'] == 1).sum(), (data_age2_sample['Gender'] == 1).sum()]\n",
    "\n",
    "nobs = [(len(data_age1_sample)), len(data_age2_sample)]"
   ]
  },
  {
   "cell_type": "code",
   "execution_count": 95,
   "metadata": {},
   "outputs": [
    {
     "data": {
      "text/plain": [
       "815"
      ]
     },
     "execution_count": 95,
     "metadata": {},
     "output_type": "execute_result"
    }
   ],
   "source": [
    "(data_age1_sample['Gender'] == 1).sum()"
   ]
  },
  {
   "cell_type": "code",
   "execution_count": 96,
   "metadata": {},
   "outputs": [
    {
     "data": {
      "text/plain": [
       "828"
      ]
     },
     "execution_count": 96,
     "metadata": {},
     "output_type": "execute_result"
    }
   ],
   "source": [
    "(data_age2_sample['Gender'] == 1).sum()"
   ]
  },
  {
   "cell_type": "code",
   "execution_count": 97,
   "metadata": {},
   "outputs": [
    {
     "data": {
      "text/plain": [
       "[815, 828]"
      ]
     },
     "execution_count": 97,
     "metadata": {},
     "output_type": "execute_result"
    }
   ],
   "source": [
    "count"
   ]
  },
  {
   "cell_type": "code",
   "execution_count": 98,
   "metadata": {},
   "outputs": [
    {
     "data": {
      "text/plain": [
       "[1000, 1000]"
      ]
     },
     "execution_count": 98,
     "metadata": {},
     "output_type": "execute_result"
    }
   ],
   "source": [
    "nobs"
   ]
  },
  {
   "cell_type": "code",
   "execution_count": 99,
   "metadata": {
    "id": "HlI1IoVU_Wmy"
   },
   "outputs": [],
   "source": [
    "from statsmodels.stats.proportion import proportions_ztest\n",
    "stat_2sample, p_value_2sample = proportions_ztest(count=count, \n",
    "                                                  nobs=nobs, \n",
    "                                                  value=0)"
   ]
  },
  {
   "cell_type": "code",
   "execution_count": 100,
   "metadata": {
    "colab": {
     "base_uri": "https://localhost:8080/"
    },
    "id": "gEOQ27HI_8_D",
    "outputId": "94eee78a-2325-4ce0-cc9b-dab2a6fb5081"
   },
   "outputs": [
    {
     "name": "stdout",
     "output_type": "stream",
     "text": [
      "-0.759111307093946 0.44778597581119517\n"
     ]
    }
   ],
   "source": [
    "print(stat_2sample, p_value_2sample)"
   ]
  },
  {
   "cell_type": "code",
   "execution_count": 68,
   "metadata": {
    "id": "0yvxHabDAFSY"
   },
   "outputs": [],
   "source": [
    "#p value is more than 0.05, cannot reject the null hypthesis. \n",
    "#therefore, Percentage of the men in the age groups is same"
   ]
  },
  {
   "cell_type": "code",
   "execution_count": 101,
   "metadata": {},
   "outputs": [],
   "source": [
    "# Chi square Test\n"
   ]
  },
  {
   "cell_type": "code",
   "execution_count": 102,
   "metadata": {},
   "outputs": [
    {
     "data": {
      "text/html": [
       "<div>\n",
       "<style scoped>\n",
       "    .dataframe tbody tr th:only-of-type {\n",
       "        vertical-align: middle;\n",
       "    }\n",
       "\n",
       "    .dataframe tbody tr th {\n",
       "        vertical-align: top;\n",
       "    }\n",
       "\n",
       "    .dataframe thead th {\n",
       "        text-align: right;\n",
       "    }\n",
       "</style>\n",
       "<table border=\"1\" class=\"dataframe\">\n",
       "  <thead>\n",
       "    <tr style=\"text-align: right;\">\n",
       "      <th></th>\n",
       "      <th>User_ID</th>\n",
       "      <th>Product_ID</th>\n",
       "      <th>Gender</th>\n",
       "      <th>Age</th>\n",
       "      <th>Occupation</th>\n",
       "      <th>City_Category</th>\n",
       "      <th>Stay_In_Current_City_Years</th>\n",
       "      <th>Marital_Status</th>\n",
       "      <th>Product_Category_1</th>\n",
       "      <th>Product_Category_2</th>\n",
       "      <th>Product_Category_3</th>\n",
       "      <th>Purchase</th>\n",
       "    </tr>\n",
       "  </thead>\n",
       "  <tbody>\n",
       "    <tr>\n",
       "      <th>1</th>\n",
       "      <td>1</td>\n",
       "      <td>2304</td>\n",
       "      <td>0</td>\n",
       "      <td>0</td>\n",
       "      <td>10.0</td>\n",
       "      <td>0</td>\n",
       "      <td>2.0</td>\n",
       "      <td>0.0</td>\n",
       "      <td>1.0</td>\n",
       "      <td>6.0</td>\n",
       "      <td>14.0</td>\n",
       "      <td>15200.0</td>\n",
       "    </tr>\n",
       "    <tr>\n",
       "      <th>6</th>\n",
       "      <td>4</td>\n",
       "      <td>1684</td>\n",
       "      <td>1</td>\n",
       "      <td>4</td>\n",
       "      <td>7.0</td>\n",
       "      <td>1</td>\n",
       "      <td>2.0</td>\n",
       "      <td>1.0</td>\n",
       "      <td>1.0</td>\n",
       "      <td>8.0</td>\n",
       "      <td>17.0</td>\n",
       "      <td>19215.0</td>\n",
       "    </tr>\n",
       "    <tr>\n",
       "      <th>13</th>\n",
       "      <td>5</td>\n",
       "      <td>1304</td>\n",
       "      <td>1</td>\n",
       "      <td>2</td>\n",
       "      <td>20.0</td>\n",
       "      <td>0</td>\n",
       "      <td>1.0</td>\n",
       "      <td>1.0</td>\n",
       "      <td>1.0</td>\n",
       "      <td>2.0</td>\n",
       "      <td>5.0</td>\n",
       "      <td>15665.0</td>\n",
       "    </tr>\n",
       "    <tr>\n",
       "      <th>14</th>\n",
       "      <td>6</td>\n",
       "      <td>2133</td>\n",
       "      <td>0</td>\n",
       "      <td>5</td>\n",
       "      <td>9.0</td>\n",
       "      <td>0</td>\n",
       "      <td>1.0</td>\n",
       "      <td>0.0</td>\n",
       "      <td>5.0</td>\n",
       "      <td>8.0</td>\n",
       "      <td>14.0</td>\n",
       "      <td>5378.0</td>\n",
       "    </tr>\n",
       "    <tr>\n",
       "      <th>16</th>\n",
       "      <td>6</td>\n",
       "      <td>3475</td>\n",
       "      <td>0</td>\n",
       "      <td>5</td>\n",
       "      <td>9.0</td>\n",
       "      <td>0</td>\n",
       "      <td>1.0</td>\n",
       "      <td>0.0</td>\n",
       "      <td>2.0</td>\n",
       "      <td>3.0</td>\n",
       "      <td>4.0</td>\n",
       "      <td>13055.0</td>\n",
       "    </tr>\n",
       "    <tr>\n",
       "      <th>...</th>\n",
       "      <td>...</td>\n",
       "      <td>...</td>\n",
       "      <td>...</td>\n",
       "      <td>...</td>\n",
       "      <td>...</td>\n",
       "      <td>...</td>\n",
       "      <td>...</td>\n",
       "      <td>...</td>\n",
       "      <td>...</td>\n",
       "      <td>...</td>\n",
       "      <td>...</td>\n",
       "      <td>...</td>\n",
       "    </tr>\n",
       "    <tr>\n",
       "      <th>262997</th>\n",
       "      <td>4360</td>\n",
       "      <td>2433</td>\n",
       "      <td>0</td>\n",
       "      <td>4</td>\n",
       "      <td>16.0</td>\n",
       "      <td>1</td>\n",
       "      <td>0.0</td>\n",
       "      <td>1.0</td>\n",
       "      <td>1.0</td>\n",
       "      <td>11.0</td>\n",
       "      <td>16.0</td>\n",
       "      <td>15175.0</td>\n",
       "    </tr>\n",
       "    <tr>\n",
       "      <th>263001</th>\n",
       "      <td>4360</td>\n",
       "      <td>1921</td>\n",
       "      <td>0</td>\n",
       "      <td>4</td>\n",
       "      <td>16.0</td>\n",
       "      <td>1</td>\n",
       "      <td>0.0</td>\n",
       "      <td>1.0</td>\n",
       "      <td>1.0</td>\n",
       "      <td>11.0</td>\n",
       "      <td>15.0</td>\n",
       "      <td>15430.0</td>\n",
       "    </tr>\n",
       "    <tr>\n",
       "      <th>263003</th>\n",
       "      <td>4360</td>\n",
       "      <td>3209</td>\n",
       "      <td>0</td>\n",
       "      <td>4</td>\n",
       "      <td>16.0</td>\n",
       "      <td>1</td>\n",
       "      <td>0.0</td>\n",
       "      <td>1.0</td>\n",
       "      <td>1.0</td>\n",
       "      <td>2.0</td>\n",
       "      <td>15.0</td>\n",
       "      <td>15387.0</td>\n",
       "    </tr>\n",
       "    <tr>\n",
       "      <th>263006</th>\n",
       "      <td>4360</td>\n",
       "      <td>329</td>\n",
       "      <td>0</td>\n",
       "      <td>4</td>\n",
       "      <td>16.0</td>\n",
       "      <td>1</td>\n",
       "      <td>0.0</td>\n",
       "      <td>1.0</td>\n",
       "      <td>8.0</td>\n",
       "      <td>13.0</td>\n",
       "      <td>16.0</td>\n",
       "      <td>5861.0</td>\n",
       "    </tr>\n",
       "    <tr>\n",
       "      <th>263011</th>\n",
       "      <td>4361</td>\n",
       "      <td>1015</td>\n",
       "      <td>1</td>\n",
       "      <td>3</td>\n",
       "      <td>1.0</td>\n",
       "      <td>1</td>\n",
       "      <td>3.0</td>\n",
       "      <td>0.0</td>\n",
       "      <td>1.0</td>\n",
       "      <td>8.0</td>\n",
       "      <td>17.0</td>\n",
       "      <td>19253.0</td>\n",
       "    </tr>\n",
       "  </tbody>\n",
       "</table>\n",
       "<p>80582 rows × 12 columns</p>\n",
       "</div>"
      ],
      "text/plain": [
       "        User_ID  Product_ID  Gender  Age  Occupation  City_Category  \\\n",
       "1             1        2304       0    0        10.0              0   \n",
       "6             4        1684       1    4         7.0              1   \n",
       "13            5        1304       1    2        20.0              0   \n",
       "14            6        2133       0    5         9.0              0   \n",
       "16            6        3475       0    5         9.0              0   \n",
       "...         ...         ...     ...  ...         ...            ...   \n",
       "262997     4360        2433       0    4        16.0              1   \n",
       "263001     4360        1921       0    4        16.0              1   \n",
       "263003     4360        3209       0    4        16.0              1   \n",
       "263006     4360         329       0    4        16.0              1   \n",
       "263011     4361        1015       1    3         1.0              1   \n",
       "\n",
       "        Stay_In_Current_City_Years  Marital_Status  Product_Category_1  \\\n",
       "1                              2.0             0.0                 1.0   \n",
       "6                              2.0             1.0                 1.0   \n",
       "13                             1.0             1.0                 1.0   \n",
       "14                             1.0             0.0                 5.0   \n",
       "16                             1.0             0.0                 2.0   \n",
       "...                            ...             ...                 ...   \n",
       "262997                         0.0             1.0                 1.0   \n",
       "263001                         0.0             1.0                 1.0   \n",
       "263003                         0.0             1.0                 1.0   \n",
       "263006                         0.0             1.0                 8.0   \n",
       "263011                         3.0             0.0                 1.0   \n",
       "\n",
       "        Product_Category_2  Product_Category_3  Purchase  \n",
       "1                      6.0                14.0   15200.0  \n",
       "6                      8.0                17.0   19215.0  \n",
       "13                     2.0                 5.0   15665.0  \n",
       "14                     8.0                14.0    5378.0  \n",
       "16                     3.0                 4.0   13055.0  \n",
       "...                    ...                 ...       ...  \n",
       "262997                11.0                16.0   15175.0  \n",
       "263001                11.0                15.0   15430.0  \n",
       "263003                 2.0                15.0   15387.0  \n",
       "263006                13.0                16.0    5861.0  \n",
       "263011                 8.0                17.0   19253.0  \n",
       "\n",
       "[80582 rows x 12 columns]"
      ]
     },
     "execution_count": 102,
     "metadata": {},
     "output_type": "execute_result"
    }
   ],
   "source": [
    "data"
   ]
  },
  {
   "cell_type": "markdown",
   "metadata": {},
   "source": [
    "# Chi Square Test"
   ]
  },
  {
   "cell_type": "markdown",
   "metadata": {},
   "source": [
    "IS the puchase catagory independent of Product_catagory_1"
   ]
  },
  {
   "cell_type": "code",
   "execution_count": null,
   "metadata": {},
   "outputs": [],
   "source": []
  },
  {
   "cell_type": "code",
   "execution_count": 107,
   "metadata": {},
   "outputs": [
    {
     "name": "stdout",
     "output_type": "stream",
     "text": [
      "Chi-square statistic: 680480.4699742543\n",
      "p-value: 0.0\n",
      "Degrees of freedom: 135740\n"
     ]
    }
   ],
   "source": [
    "import pandas as pd\n",
    "from scipy.stats import chi2_contingency\n",
    "\n",
    "# Create a contingency table\n",
    "contingency_table = pd.crosstab(data['Purchase'], data['Product_Category_1'])\n",
    "\n",
    "# # Perform chi-square test\n",
    "chi2, p, dof, expected = chi2_contingency(contingency_table)\n",
    "\n",
    "# Print the test statistics and p-value\n",
    "print(\"Chi-square statistic:\", chi2)\n",
    "print(\"p-value:\", p)\n",
    "print(\"Degrees of freedom:\", dof)\n"
   ]
  },
  {
   "cell_type": "markdown",
   "metadata": {},
   "source": [
    "# ANNOVA"
   ]
  },
  {
   "cell_type": "code",
   "execution_count": 108,
   "metadata": {},
   "outputs": [],
   "source": [
    "# ANNOVA - Analysis of variable\n",
    "from scipy.stats import f_oneway"
   ]
  },
  {
   "cell_type": "code",
   "execution_count": 109,
   "metadata": {},
   "outputs": [],
   "source": [
    "samp1=data[\"Product_Category_1\"]\n",
    "samp2=data[\"Product_Category_2\"]\n",
    "samp3=data[\"Product_Category_3\"]"
   ]
  },
  {
   "cell_type": "code",
   "execution_count": 111,
   "metadata": {},
   "outputs": [],
   "source": [
    "a_stat,p_val=f_oneway(samp1,samp2,samp3)"
   ]
  },
  {
   "cell_type": "code",
   "execution_count": 112,
   "metadata": {},
   "outputs": [
    {
     "name": "stdout",
     "output_type": "stream",
     "text": [
      "136803.74205017698 0.0\n"
     ]
    }
   ],
   "source": [
    "print(a_stat,p_val)"
   ]
  },
  {
   "cell_type": "code",
   "execution_count": null,
   "metadata": {},
   "outputs": [],
   "source": []
  }
 ],
 "metadata": {
  "colab": {
   "collapsed_sections": [
    "OfmQ5WDrPlp5"
   ],
   "provenance": []
  },
  "kernelspec": {
   "display_name": "Python 3 (ipykernel)",
   "language": "python",
   "name": "python3"
  },
  "language_info": {
   "codemirror_mode": {
    "name": "ipython",
    "version": 3
   },
   "file_extension": ".py",
   "mimetype": "text/x-python",
   "name": "python",
   "nbconvert_exporter": "python",
   "pygments_lexer": "ipython3",
   "version": "3.9.12"
  }
 },
 "nbformat": 4,
 "nbformat_minor": 1
}
